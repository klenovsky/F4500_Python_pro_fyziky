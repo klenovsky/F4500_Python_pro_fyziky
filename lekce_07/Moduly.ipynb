{
 "cells": [
  {
   "cell_type": "markdown",
   "metadata": {
    "deletable": true,
    "editable": true
   },
   "source": [
    "Moduly moduly aneb O importování\n",
    "-----------\n",
    "\n",
    "aliasy\n",
    "lze importovat jen jednu třídu/funkci/proměnnou, ale moduly mohou mit i více úrovní"
   ]
  },
  {
   "cell_type": "code",
   "execution_count": 1,
   "metadata": {
    "collapsed": false,
    "deletable": true,
    "editable": true
   },
   "outputs": [
    {
     "data": {
      "text/plain": [
       "True"
      ]
     },
     "execution_count": 1,
     "metadata": {},
     "output_type": "execute_result"
    }
   ],
   "source": [
    "from os import path\n",
    "path.exists(\"data.csv\")"
   ]
  },
  {
   "cell_type": "markdown",
   "metadata": {
    "deletable": true,
    "editable": true
   },
   "source": [
    "lze naimportovat jednotlive funkce"
   ]
  },
  {
   "cell_type": "code",
   "execution_count": 2,
   "metadata": {
    "collapsed": true,
    "deletable": true,
    "editable": true
   },
   "outputs": [],
   "source": [
    "from os.path import exists"
   ]
  },
  {
   "cell_type": "markdown",
   "metadata": {
    "deletable": true,
    "editable": true
   },
   "source": [
    "ale v jiném modulu má jiný význam"
   ]
  },
  {
   "cell_type": "code",
   "execution_count": 3,
   "metadata": {
    "collapsed": false,
    "deletable": true,
    "editable": true
   },
   "outputs": [
    {
     "data": {
      "text/plain": [
       "['/home/ziky/work/probe/probe-data-process2',\n",
       " '/home/ziky/work/probe/probe-plotting2',\n",
       " 'VextFinder.PATH_TRIGGER',\n",
       " '/home/ziky/.virtualenvs/plasmasolve3/lib/python3.4/site-packages/IPython/extensions',\n",
       " '/home/ziky/.ipython']"
      ]
     },
     "execution_count": 3,
     "metadata": {},
     "output_type": "execute_result"
    }
   ],
   "source": [
    "from sys import path\n",
    "path[-5:]"
   ]
  },
  {
   "cell_type": "markdown",
   "metadata": {
    "deletable": true,
    "editable": true
   },
   "source": [
    "lze přidat adresář k těm, ve kterých Python hledá importované moduly"
   ]
  },
  {
   "cell_type": "code",
   "execution_count": 4,
   "metadata": {
    "collapsed": false,
    "deletable": true,
    "editable": true
   },
   "outputs": [
    {
     "data": {
      "text/plain": [
       "['/home/ziky/work/probe/probe-plotting2',\n",
       " 'VextFinder.PATH_TRIGGER',\n",
       " '/home/ziky/.virtualenvs/plasmasolve3/lib/python3.4/site-packages/IPython/extensions',\n",
       " '/home/ziky/.ipython',\n",
       " '/home/jovyan/work/']"
      ]
     },
     "execution_count": 4,
     "metadata": {},
     "output_type": "execute_result"
    }
   ],
   "source": [
    "path.append(\"/home/jovyan/work/\")\n",
    "path[-5:]"
   ]
  },
  {
   "cell_type": "markdown",
   "metadata": {
    "deletable": true,
    "editable": true
   },
   "source": [
    "ještě jeden příklad stejného jména, tady i se stejným významem - ale je to totéž?"
   ]
  },
  {
   "cell_type": "code",
   "execution_count": 5,
   "metadata": {
    "collapsed": false,
    "deletable": true,
    "editable": true
   },
   "outputs": [
    {
     "data": {
      "text/plain": [
       "(False, True)"
      ]
     },
     "execution_count": 5,
     "metadata": {},
     "output_type": "execute_result"
    }
   ],
   "source": [
    "from math import pi\n",
    "import numpy as np\n",
    "pi is np.pi, pi==np.pi"
   ]
  },
  {
   "cell_type": "markdown",
   "metadata": {
    "deletable": true,
    "editable": true
   },
   "source": [
    "poslední, ale nedoporučovaná specialita syntaxe  \n",
    "`from xy import *`  \n",
    "pozor na \"**jmenné znečistění**\" (nevíme, co všechno importujeme)  \n",
    "\n",
    "se značkou \"*\" nelze importovat uvnitř funkcí/tříd"
   ]
  },
  {
   "cell_type": "code",
   "execution_count": 6,
   "metadata": {
    "collapsed": true,
    "deletable": true,
    "editable": true
   },
   "outputs": [],
   "source": [
    "## !! nedoporucovano\n",
    "#from matplotlib.pyplot import *"
   ]
  },
  {
   "cell_type": "code",
   "execution_count": 7,
   "metadata": {
    "collapsed": false,
    "deletable": true,
    "editable": true
   },
   "outputs": [],
   "source": [
    "## lepe takto\n",
    "import numpy as np\n",
    "import matplotlib.pyplot as pl"
   ]
  },
  {
   "cell_type": "markdown",
   "metadata": {
    "deletable": true,
    "editable": true
   },
   "source": [
    "co nás ještě může zajímat (vše - jako třeba help a.k.a. *docstring* - je dostupné pro programové zpracování)"
   ]
  },
  {
   "cell_type": "code",
   "execution_count": 8,
   "metadata": {
    "collapsed": false,
    "deletable": true,
    "editable": true,
    "run_control": {
     "marked": false
    }
   },
   "outputs": [
    {
     "name": "stdout",
     "output_type": "stream",
     "text": [
      "1.11.2 /home/ziky/.virtualenvs/plasmasolve3/lib/python3.4/site-packages/numpy/__init__.py\n",
      "\n",
      "NumPy\n",
      "=====\n",
      "\n",
      "Provides\n",
      "  1. An array object of arbitrary homogeneous items\n",
      "  2. Fast mathematical operations over arrays\n",
      "  3. Linear Algebra, Fourier Transforms, Random Number Generation\n",
      "\n",
      "How to use the documentation\n",
      "----------------------------\n",
      "Documentation is available in two forms: docstrings provided\n",
      "with the code, and a loose standing reference guide, available from\n",
      "`the NumPy homepage <http://www.scipy.org>`_.\n",
      "\n",
      "We recommend exploring the docstrings using\n",
      "`IPython <http://ipython.scipy.org>`_, an advanced Python shell with\n",
      "TAB-completion and introspection capabilities.  See below for further\n",
      "instructions.\n",
      "\n",
      "The docstring examples assume that `numpy` has been imported as `np`::\n",
      "\n",
      "  >>> import numpy as np\n",
      "\n",
      "Code snippets are indicated by three greater-than signs::\n",
      "\n",
      "  >>> x = 42\n",
      "  >>> x = x + 1\n",
      "\n",
      "Use the built-in ``help`` function to view a function's docstring::\n",
      "\n",
      "  >>> help(np.sort)\n",
      "  ... # doctest: +SKIP\n",
      "\n",
      "For some objects, ``np.info(obj)`` may provide additional help.  This is\n",
      "particu...\n"
     ]
    }
   ],
   "source": [
    "print(np.__version__, np.__file__)\n",
    "print(np.__doc__[:1000]+\"...\")"
   ]
  },
  {
   "cell_type": "code",
   "execution_count": 9,
   "metadata": {
    "collapsed": false,
    "deletable": true,
    "editable": true
   },
   "outputs": [],
   "source": [
    "np?"
   ]
  },
  {
   "cell_type": "code",
   "execution_count": 10,
   "metadata": {
    "collapsed": false,
    "deletable": true,
    "editable": true
   },
   "outputs": [
    {
     "name": "stdout",
     "output_type": "stream",
     "text": [
      "modul np obsahuje 604 pojmenovanych funkci/proměnných/podmodulů\n"
     ]
    },
    {
     "data": {
      "text/plain": [
       "['newaxis',\n",
       " 'ndarray',\n",
       " 'flatiter',\n",
       " 'nditer',\n",
       " 'nested_iters',\n",
       " 'ufunc',\n",
       " 'arange',\n",
       " 'array',\n",
       " 'zeros',\n",
       " 'count_nonzero']"
      ]
     },
     "execution_count": 10,
     "metadata": {},
     "output_type": "execute_result"
    }
   ],
   "source": [
    "print(\"modul np obsahuje %i pojmenovanych funkci/proměnných/podmodulů\"%len(np.__all__))\n",
    "np.__all__[10:20]"
   ]
  },
  {
   "cell_type": "markdown",
   "metadata": {
    "collapsed": false,
    "deletable": true,
    "editable": true
   },
   "source": [
    "... a teď vlastní modul? Jak prosté...\n",
    "\n",
    "vše, co chcete (třídy pro řešení Fisherovy úlohy z pojednání o objektech), nakopírujete do souboru jako `novy.py`\n",
    "```python\n",
    "    import novy\n",
    "    novy.Fisher(\"data.csv\")\n",
    "```"
   ]
  },
  {
   "cell_type": "markdown",
   "metadata": {
    "deletable": true,
    "editable": true
   },
   "source": [
    "\n",
    "--------\n",
    "\n",
    "### aktualizace\n",
    "upravili jsme svůj kód, nebo nahráli novou verzi\n",
    "\n",
    "```python\n",
    "        from imp import reload\n",
    "```\n",
    "\n",
    " pro fajnšmekry ještě\n",
    " - hlubší úrovně nutne \"reloadnout\" ručně (nebo **dreload** aka \"deep reload\")\n",
    " - nutno znovu vytvořit objekty z dotčených tříd"
   ]
  },
  {
   "cell_type": "code",
   "execution_count": 11,
   "metadata": {
    "collapsed": false,
    "deletable": true,
    "editable": true
   },
   "outputs": [
    {
     "data": {
      "text/plain": [
       "<module 'numpy' from '/home/ziky/.virtualenvs/plasmasolve3/lib/python3.4/site-packages/numpy/__init__.py'>"
      ]
     },
     "execution_count": 11,
     "metadata": {},
     "output_type": "execute_result"
    }
   ],
   "source": [
    "from imp import reload\n",
    "reload(np)"
   ]
  },
  {
   "cell_type": "markdown",
   "metadata": {
    "deletable": true,
    "editable": true
   },
   "source": [
    "ještě pár pojmů\n",
    "### packages \n",
    "\n",
    "- celé adresáře (jednotlivé soubory jsou podmoduly)\n",
    "- vložení (prázdného) `__init__.py` \n",
    "\n",
    "\n",
    "jak použít program jako modul? před části kódu, která se nemá spustit při importu, přidáme řádek\n",
    "\n",
    "    .. if __name__==\"__main__\":\n",
    "\n",
    "\n",
    "kde se hledají: PYTHONPATH nebo `sys.path` (lze přidávat za běhu)\n",
    "\n",
    "### hlavičky\n",
    "  - spustitelný (v linuxu?)   \n",
    "      `#!/usr/bin/python` nebo  \n",
    "      `#! /usr/bin/env python`\n",
    "  - *charset* (kódování)  \n",
    "      `# -*- coding: utf-8 -*-`\n",
    "  - *docstring* (co všechno v modulu najdete)"
   ]
  },
  {
   "cell_type": "markdown",
   "metadata": {
    "deletable": true,
    "editable": true
   },
   "source": [
    "## cvičení zde\n",
    "\n",
    "##### Level 1\n",
    "\n",
    "- vytvořit modul řešící Fišerův problém (soubor `fisher.py`)\n",
    "- naimportovat jej do nového notebooku\n",
    "\n",
    "##### Level 2\n",
    "- vytvořit globální proměnnou v rámci modulu `fontsize` s hodnotou 25\n",
    "- na vhodných místech nahradit konstantu proměnnou\n",
    "\n",
    "##### Level 3\n",
    "\n",
    "- příkazová řádka? příkazová řádka!"
   ]
  },
  {
   "cell_type": "code",
   "execution_count": 12,
   "metadata": {
    "collapsed": false,
    "deletable": true,
    "editable": true
   },
   "outputs": [
    {
     "name": "stdout",
     "output_type": "stream",
     "text": [
      "[  0.62766786  70.21827857]\n"
     ]
    }
   ],
   "source": [
    "#nejak takto\n",
    "%matplotlib inline\n",
    "import fisher\n",
    "fg=fisher.FisherGraph(\"data.csv\")\n",
    "fg.fit()\n",
    "#fg.graph([0,30],\"X\",\"Y\",\"Importovano\")"
   ]
  }
 ],
 "metadata": {
  "anaconda-cloud": {},
  "kernelspec": {
   "display_name": "Python 3",
   "language": "python",
   "name": "python3"
  },
  "language_info": {
   "codemirror_mode": {
    "name": "ipython",
    "version": 3
   },
   "file_extension": ".py",
   "mimetype": "text/x-python",
   "name": "python",
   "nbconvert_exporter": "python",
   "pygments_lexer": "ipython3",
   "version": "3.4.3+"
  }
 },
 "nbformat": 4,
 "nbformat_minor": 0
}
