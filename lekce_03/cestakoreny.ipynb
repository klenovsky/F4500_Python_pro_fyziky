{
 "cells": [
  {
   "cell_type": "markdown",
   "metadata": {
    "deletable": true,
    "editable": true
   },
   "source": [
    "<h1>Cesta ke kořenům</h1>\n",
    "\n",
    "<p>Moto: panda v koruně pevného stromu</p>\n",
    "\n",
    "<ul>\n",
    "<li>Grafy bodů</li>\n",
    "<li>Seznamy</li>\n",
    "<li>Vektory v numpy</li>\n",
    "<li>Grafy funkcí</li>\n",
    "<li>Definice vlastních funkcí</li>\n",
    "<li>Rozlišení dalekohledu</li>\n",
    "</ul>"
   ]
  },
  {
   "cell_type": "markdown",
   "metadata": {
    "deletable": true,
    "editable": true
   },
   "source": [
    "<p>Panda za nás prováděla hodně věcí automaticky -- typické pro Python. Řešení problémů je obvykle představováno kombinací několika základních kamenů. Příkladem budiž kreslení grafů.</p>\n"
   ]
  },
  {
   "cell_type": "markdown",
   "metadata": {
    "deletable": true,
    "editable": true
   },
   "source": [
    "<h2>Kreslení bodů</h2>\n",
    "<p>\n",
    "<a href=\"http://matplotlib.org/\">Matplotlib.org</a> je grafický modul (sada nástrojů pro kreslení grafů). \n",
    "Zpřístupní se pomocí kouzelného slůvka <t>import</t>:\n",
    "</p>"
   ]
  },
  {
   "cell_type": "code",
   "execution_count": 1,
   "metadata": {
    "collapsed": false,
    "deletable": true,
    "editable": true
   },
   "outputs": [],
   "source": [
    "import matplotlib.pyplot as plt    # plt je vseobecne uzivana zkratka, grafy si kreslime primo do notebookove stranky:\n",
    "%matplotlib inline"
   ]
  },
  {
   "cell_type": "markdown",
   "metadata": {
    "deletable": true,
    "editable": true
   },
   "source": [
    "<p>Vykreslení dat do grafu zajistí <t>plot(x,y)</t>:</p>"
   ]
  },
  {
   "cell_type": "code",
   "execution_count": 2,
   "metadata": {
    "collapsed": false,
    "deletable": true,
    "editable": true
   },
   "outputs": [
    {
     "data": {
      "text/plain": [
       "[<matplotlib.lines.Line2D at 0x7fc7d2d65d30>]"
      ]
     },
     "execution_count": 2,
     "metadata": {},
     "output_type": "execute_result"
    },
    {
     "data": {
      "image/png": "[encoded data removed]",
      "text/plain": [
       "<matplotlib.figure.Figure at 0x7fc7d5022828>"
      ]
     },
     "metadata": {},
     "output_type": "display_data"
    }
   ],
   "source": [
    "plt.plot(1,2) # bod v x = 1, y = 2"
   ]
  },
  {
   "cell_type": "markdown",
   "metadata": {
    "deletable": true,
    "editable": true
   },
   "source": [
    "<p>Fakt je tam... jen není vidět.</p>"
   ]
  },
  {
   "cell_type": "code",
   "execution_count": 3,
   "metadata": {
    "collapsed": false,
    "deletable": true,
    "editable": true
   },
   "outputs": [
    {
     "data": {
      "text/plain": [
       "[<matplotlib.lines.Line2D at 0x7fc7d2c92400>]"
      ]
     },
     "execution_count": 3,
     "metadata": {},
     "output_type": "execute_result"
    },
    {
     "data": {
      "image/png": "[encoded data removed]",
      "text/plain": [
       "<matplotlib.figure.Figure at 0x7fc7d2d0a128>"
      ]
     },
     "metadata": {},
     "output_type": "display_data"
    }
   ],
   "source": [
    "plt.plot(1,2,'*')    # muj oblibeny symbol je pentagram"
   ]
  },
  {
   "cell_type": "markdown",
   "metadata": {
    "deletable": true,
    "editable": true
   },
   "source": [
    "<p>Žádáme-li víc bodů, musíme je uzavřít do hranatých závorek.</p>"
   ]
  },
  {
   "cell_type": "code",
   "execution_count": 4,
   "metadata": {
    "collapsed": false,
    "deletable": true,
    "editable": true
   },
   "outputs": [
    {
     "data": {
      "text/plain": [
       "[<matplotlib.lines.Line2D at 0x7fc7d2bfcf60>]"
      ]
     },
     "execution_count": 4,
     "metadata": {},
     "output_type": "execute_result"
    },
    {
     "data": {
      "image/png": "[encoded data removed]",
      "text/plain": [
       "<matplotlib.figure.Figure at 0x7fc7d2ca1cc0>"
      ]
     },
     "metadata": {},
     "output_type": "display_data"
    }
   ],
   "source": [
    "plt.plot([1,2,3],[11,12,13],'+')  # pokud nedefinujeme kreslici symbol, spoji se carou"
   ]
  },
  {
   "cell_type": "code",
   "execution_count": 5,
   "metadata": {
    "collapsed": true,
    "deletable": true,
    "editable": true
   },
   "outputs": [],
   "source": [
    "plt.plot?"
   ]
  },
  {
   "cell_type": "markdown",
   "metadata": {
    "deletable": true,
    "editable": true
   },
   "source": [
    "<p>Zjevně bude potřeba upravit měřítka na osách: </p>"
   ]
  },
  {
   "cell_type": "code",
   "execution_count": 6,
   "metadata": {
    "collapsed": false,
    "deletable": true,
    "editable": true
   },
   "outputs": [
    {
     "data": {
      "text/plain": [
       "[<matplotlib.lines.Line2D at 0x7fc7d2b8afd0>]"
      ]
     },
     "execution_count": 6,
     "metadata": {},
     "output_type": "execute_result"
    },
    {
     "data": {
      "image/png": "[encoded data removed]",
      "text/plain": [
       "<matplotlib.figure.Figure at 0x7fc7d2c5b470>"
      ]
     },
     "metadata": {},
     "output_type": "display_data"
    }
   ],
   "source": [
    "plt.xlim(0.9,3.1)\n",
    "plt.ylim(10,15)\n",
    "plt.plot([1,2,3],[11,12,13],'*')"
   ]
  },
  {
   "cell_type": "markdown",
   "metadata": {
    "deletable": true,
    "editable": true
   },
   "source": [
    "<p>Poznámky:</p>\n",
    "<ul>\n",
    "<li>Modul pandas nám zajistil načtení bodů ze souboru. Plot ho umí vykreslit.</li>\n",
    "<li><b>Důležité:</b> plot(x,y) umí kreslit jen body nikoliv přímo funkce.</li>\n",
    "</ul>"
   ]
  },
  {
   "cell_type": "markdown",
   "metadata": {
    "deletable": true,
    "editable": true
   },
   "source": [
    "<h2>Seznam (list)</h2>\n",
    "<p>Chceme-li vykreslit mnoho bodů, je nutné je zapsat do seznamu. Seznam je něco jako pojmenovaný sloupec v tabulkovém procesoru.</p>\n",
    "<p>Vytváří se výčtem nebo vygenerováním nebo ...:</p> "
   ]
  },
  {
   "cell_type": "code",
   "execution_count": 7,
   "metadata": {
    "collapsed": false,
    "deletable": true,
    "editable": true
   },
   "outputs": [],
   "source": [
    "x = [1,2,3]   # vycet\n",
    "y = []        # prazdny seznam"
   ]
  },
  {
   "cell_type": "markdown",
   "metadata": {
    "deletable": true,
    "editable": true
   },
   "source": [
    "<p>Vlastnosti seznamu:</p>\n",
    "<ul>\n",
    "<li>Neomezený počet prvků.</li>\n",
    "<li>Prvky lze libovolně přidávat a ubírat.</li>\n",
    "<li>Jednotlivé prvky jsou dostupné jako jmeno[]</li>\n",
    "<li>První prvek má index nula: x[0]</li>\n",
    "<li><a href=\"https://docs.python.org/3/tutorial/datastructures.html\">python.org</a>\n",
    "</ul>"
   ]
  },
  {
   "cell_type": "code",
   "execution_count": 8,
   "metadata": {
    "collapsed": false,
    "deletable": true,
    "editable": true
   },
   "outputs": [
    {
     "name": "stdout",
     "output_type": "stream",
     "text": [
      "[1, 2, 3, 4]\n"
     ]
    }
   ],
   "source": [
    "x.append(4) # pridani prvku s hodnotou 4 nakonec\n",
    "print(x)"
   ]
  },
  {
   "cell_type": "code",
   "execution_count": 9,
   "metadata": {
    "collapsed": false,
    "deletable": true,
    "editable": true
   },
   "outputs": [
    {
     "name": "stdout",
     "output_type": "stream",
     "text": [
      "[1, 2, 3]\n"
     ]
    }
   ],
   "source": [
    "x.pop()  # odebrani posledniho\n",
    "print(x)"
   ]
  },
  {
   "cell_type": "code",
   "execution_count": 10,
   "metadata": {
    "collapsed": false,
    "deletable": true,
    "editable": true
   },
   "outputs": [
    {
     "name": "stdout",
     "output_type": "stream",
     "text": [
      "3\n"
     ]
    }
   ],
   "source": [
    "print(x[2])  # vypsani s indexem 2 -- pozice 3"
   ]
  },
  {
   "cell_type": "code",
   "execution_count": 11,
   "metadata": {
    "collapsed": false,
    "deletable": true,
    "editable": true
   },
   "outputs": [
    {
     "name": "stdout",
     "output_type": "stream",
     "text": [
      "3\n"
     ]
    }
   ],
   "source": [
    "print(len(x))    # zjisteni delky"
   ]
  },
  {
   "cell_type": "code",
   "execution_count": 12,
   "metadata": {
    "collapsed": false,
    "deletable": true,
    "editable": true
   },
   "outputs": [],
   "source": [
    "x = [1,2,3]     # prvni sloupecek\n",
    "y = []   \n",
    "y.append(1 + x[0]**2)\n",
    "y.append(1 + x[1]**2)\n",
    "y.append(1 + x[2]**2)\n",
    "# kapanek neprehledne"
   ]
  },
  {
   "cell_type": "code",
   "execution_count": 13,
   "metadata": {
    "collapsed": false,
    "deletable": true,
    "editable": true
   },
   "outputs": [
    {
     "data": {
      "text/plain": [
       "[<matplotlib.lines.Line2D at 0x7fc7d2b9fdd8>]"
      ]
     },
     "execution_count": 13,
     "metadata": {},
     "output_type": "execute_result"
    },
    {
     "data": {
      "image/png": "[encoded data removed]",
      "text/plain": [
       "<matplotlib.figure.Figure at 0x7fc7d2b9ff98>"
      ]
     },
     "metadata": {},
     "output_type": "display_data"
    }
   ],
   "source": [
    "plt.xlim(0.9,3.1)\n",
    "plt.ylim(0,12)\n",
    "plt.plot(x,y,'*')    # presna obdoba"
   ]
  },
  {
   "cell_type": "markdown",
   "metadata": {
    "deletable": true,
    "editable": true
   },
   "source": [
    "<p>\n",
    "Pythoní obdoba udělej něco pro několik prvků je</p>\n",
    "\n",
    "<p>\n",
    "$$y_n = 1 + x_n^2, \\quad \\mathrm{pro} \\ n = 1, N$$\n",
    "</p>"
   ]
  },
  {
   "cell_type": "code",
   "execution_count": 14,
   "metadata": {
    "collapsed": false,
    "deletable": true,
    "editable": true
   },
   "outputs": [
    {
     "name": "stdout",
     "output_type": "stream",
     "text": [
      "[2, 5, 10]\n"
     ]
    }
   ],
   "source": [
    "y = [1 + x[n]**2 for n in range(0,len(x))]\n",
    "print(y)"
   ]
  },
  {
   "cell_type": "code",
   "execution_count": 15,
   "metadata": {
    "collapsed": false,
    "deletable": true,
    "editable": true
   },
   "outputs": [
    {
     "data": {
      "text/plain": [
       "[<matplotlib.lines.Line2D at 0x7fc7d2b059e8>]"
      ]
     },
     "execution_count": 15,
     "metadata": {},
     "output_type": "execute_result"
    },
    {
     "data": {
      "image/png": "[encoded data removed]",
      "text/plain": [
       "<matplotlib.figure.Figure at 0x7fc7d2b05ba8>"
      ]
     },
     "metadata": {},
     "output_type": "display_data"
    }
   ],
   "source": [
    "plt.xlim(0.9,3.1)\n",
    "plt.ylim(0,12)\n",
    "plt.plot(x,y,'*')"
   ]
  },
  {
   "cell_type": "markdown",
   "metadata": {
    "deletable": true,
    "editable": true
   },
   "source": [
    "<h2>Vektory (pole)</h2>\n",
    "<p>Funkci $y = f(x)$ vykreslíme tak, že vygenerujeme sadu (vektor) bodů $\\pmb{x} = [x_1, x_2, \\ldots ,x_N]$ \n",
    "a vypočteme $y_n = f(x_n)$ pro $n=1,2,\\ldots, N$.\n",
    "</p>\n",
    "\n",
    "<p>Jenže jak vygenerovat vektor?</p>"
   ]
  },
  {
   "cell_type": "code",
   "execution_count": 16,
   "metadata": {
    "collapsed": false,
    "deletable": true,
    "editable": true
   },
   "outputs": [],
   "source": [
    "import numpy as np"
   ]
  },
  {
   "cell_type": "markdown",
   "metadata": {
    "deletable": true,
    "editable": true
   },
   "source": [
    "<p><a href=\"http://numpy.org\">numpy</a> definuje operace s vektory, maticemi, umí je násobit, hledat vlastní čísla,...</p>\n",
    "<p>Definice vektoru pomocí listu (seznamu):</p>"
   ]
  },
  {
   "cell_type": "code",
   "execution_count": 17,
   "metadata": {
    "collapsed": false,
    "deletable": true,
    "editable": true
   },
   "outputs": [],
   "source": [
    "x = np.array([1,2,3,4,5])   # vektor x"
   ]
  },
  {
   "cell_type": "markdown",
   "metadata": {
    "deletable": true,
    "editable": true
   },
   "source": [
    "<p>$\\pmb{y} = f(\\pmb{x}) = 1 + \\pmb{x}^2$</p>"
   ]
  },
  {
   "cell_type": "code",
   "execution_count": 18,
   "metadata": {
    "collapsed": false,
    "deletable": true,
    "editable": true
   },
   "outputs": [],
   "source": [
    "y = 1 + x**2     # vektor y je vypocitany z vektoru x, prvek po prvku...."
   ]
  },
  {
   "cell_type": "code",
   "execution_count": 19,
   "metadata": {
    "collapsed": false,
    "deletable": true,
    "editable": true
   },
   "outputs": [
    {
     "data": {
      "text/plain": [
       "[<matplotlib.lines.Line2D at 0x7fc7d2a521d0>]"
      ]
     },
     "execution_count": 19,
     "metadata": {},
     "output_type": "execute_result"
    },
    {
     "data": {
      "image/png": "[encoded data removed]",
      "text/plain": [
       "<matplotlib.figure.Figure at 0x7fc7d2af9a20>"
      ]
     },
     "metadata": {},
     "output_type": "display_data"
    }
   ],
   "source": [
    "plt.plot(x,y,'*')"
   ]
  },
  {
   "cell_type": "markdown",
   "metadata": {
    "deletable": true,
    "editable": true
   },
   "source": [
    "<h3>Vlastnosti vektorů</h3>\n",
    "<ul>\n",
    "<li>Jsou odvozené z matematických vlastností -- lze je sčítat, násobit (dvěma způsoby), mají velikost,..</li>\n",
    "<li>Počet prvků je neměnný a daný při definici.</li>\n",
    "<li>Možné definice: výčtem, počtem prvků, intervalem $(a .. b)$, odvozenením z listu, ...</li>\n",
    "<li>Prvky jsou přístupné pomocí indexů v hranatých závorkách: x[1]</li>\n",
    "<li>Prvky jsou indexované od nuly: první prvek x[0], druhý x[1], ... x[N-1] -- mimořádně záludné(!)</li>\n",
    "</ul>"
   ]
  },
  {
   "cell_type": "code",
   "execution_count": 20,
   "metadata": {
    "collapsed": false,
    "deletable": true,
    "editable": true
   },
   "outputs": [
    {
     "name": "stdout",
     "output_type": "stream",
     "text": [
      "[ 0.  0.  0.  0.  0.]\n"
     ]
    }
   ],
   "source": [
    "x = np.zeros(5)   # petiprvkovy vektor plny nul\n",
    "print(x)"
   ]
  },
  {
   "cell_type": "code",
   "execution_count": 21,
   "metadata": {
    "collapsed": false,
    "deletable": true,
    "editable": true
   },
   "outputs": [
    {
     "name": "stdout",
     "output_type": "stream",
     "text": [
      "[ 1.          1.08163265  1.16326531  1.24489796  1.32653061  1.40816327\n",
      "  1.48979592  1.57142857  1.65306122  1.73469388  1.81632653  1.89795918\n",
      "  1.97959184  2.06122449  2.14285714  2.2244898   2.30612245  2.3877551\n",
      "  2.46938776  2.55102041  2.63265306  2.71428571  2.79591837  2.87755102\n",
      "  2.95918367  3.04081633  3.12244898  3.20408163  3.28571429  3.36734694\n",
      "  3.44897959  3.53061224  3.6122449   3.69387755  3.7755102   3.85714286\n",
      "  3.93877551  4.02040816  4.10204082  4.18367347  4.26530612  4.34693878\n",
      "  4.42857143  4.51020408  4.59183673  4.67346939  4.75510204  4.83673469\n",
      "  4.91836735  5.        ]\n",
      "1.0 1.08163265306 5.0 0.08163265306122448\n"
     ]
    }
   ],
   "source": [
    "x = np.linspace(1,5,50)    # vektor s prvky 1 az 5, 50  prvku\n",
    "print(x)\n",
    "print(x[0],x[1],x[50-1],(5-1)/49)"
   ]
  },
  {
   "cell_type": "markdown",
   "metadata": {
    "deletable": true,
    "editable": true
   },
   "source": [
    "<p>A právě toto je trik, který potřebujeme na vygenerování $x_n$.</p>"
   ]
  },
  {
   "cell_type": "code",
   "execution_count": 22,
   "metadata": {
    "collapsed": false,
    "deletable": true,
    "editable": true
   },
   "outputs": [],
   "source": [
    "y = 1 + x**2"
   ]
  },
  {
   "cell_type": "code",
   "execution_count": 23,
   "metadata": {
    "collapsed": false,
    "deletable": true,
    "editable": true
   },
   "outputs": [
    {
     "data": {
      "text/plain": [
       "[<matplotlib.lines.Line2D at 0x7fc7d29b9c18>]"
      ]
     },
     "execution_count": 23,
     "metadata": {},
     "output_type": "execute_result"
    },
    {
     "data": {
      "image/png": "[encoded data removed]",
      "text/plain": [
       "<matplotlib.figure.Figure at 0x7fc7d2aa8b38>"
      ]
     },
     "metadata": {},
     "output_type": "display_data"
    }
   ],
   "source": [
    "plt.plot(x,y)"
   ]
  },
  {
   "cell_type": "markdown",
   "metadata": {
    "deletable": true,
    "editable": true
   },
   "source": [
    "<p>(Už vidíme, proč má funkce <t>plot(x,y)</t> jako default spojení čarami.</p>"
   ]
  },
  {
   "cell_type": "markdown",
   "metadata": {
    "deletable": true,
    "editable": true
   },
   "source": [
    "<p>Násobení vektorů ve mně vyvolává pnutí:</p>"
   ]
  },
  {
   "cell_type": "code",
   "execution_count": 24,
   "metadata": {
    "collapsed": false,
    "deletable": true,
    "editable": true
   },
   "outputs": [
    {
     "name": "stdout",
     "output_type": "stream",
     "text": [
      "Skalární součin  [0 1 0] * [1 0 0] = 0\n",
      "Vektorový součin  [0 1 0] x [1 0 0] = [ 0  0 -1]\n"
     ]
    }
   ],
   "source": [
    "x = np.array([0,1,0])    # jednotkovy vektor podel y osy\n",
    "y = np.array([1,0,0])    # jednotkovy vektor podel x osy\n",
    "s1 = np.inner(x,y)       # inner() je skalarni soucin\n",
    "s2 = np.cross(x,y)       # cross() je vektorovy soucin\n",
    "print(\"Skalární součin \",x,\"*\",y,\"=\",s1)\n",
    "print(\"Vektorový součin \",x,\"x\",y,\"=\",s2)"
   ]
  },
  {
   "cell_type": "markdown",
   "metadata": {
    "deletable": true,
    "editable": true
   },
   "source": [
    "<h3>Obecné vlastnosti vektorových struktur</h3>\n",
    "<ul>\n",
    "<li>Sdružení mnoha prvků dohromady (kompaktnejší zápis, skoro neomezené délky)</li>\n",
    "<li>Nad prvky jsou definovány různe operace (+,-,*,x,..).</li>\n",
    "</ul>"
   ]
  },
  {
   "cell_type": "markdown",
   "metadata": {
    "deletable": true,
    "editable": true
   },
   "source": [
    "<h2>Kreslení grafů funkcí</h2>\n",
    "\n",
    "<p>Zkusíme několik speciálních funkcí (takových, které se nedají zapsat konečným počtem operací).</p>"
   ]
  },
  {
   "cell_type": "code",
   "execution_count": 25,
   "metadata": {
    "collapsed": false,
    "deletable": true,
    "editable": true
   },
   "outputs": [],
   "source": [
    "import scipy.special as spec"
   ]
  },
  {
   "cell_type": "markdown",
   "metadata": {
    "deletable": true,
    "editable": true
   },
   "source": [
    "<p><a href=\"https://docs.scipy.org/doc/scipy/reference/special.html\">Speciální</a> funkce ve <a href=\"https://www.scipy.org\">scipy.org</a>. Jde o knihovnu se základními bohatými matematickými funkcemi na numerické integrování, řešení rovnic, ...</p>"
   ]
  },
  {
   "cell_type": "code",
   "execution_count": 26,
   "metadata": {
    "collapsed": false,
    "deletable": true,
    "editable": true
   },
   "outputs": [
    {
     "data": {
      "text/plain": [
       "[<matplotlib.lines.Line2D at 0x7fc7cd67fb00>]"
      ]
     },
     "execution_count": 26,
     "metadata": {},
     "output_type": "execute_result"
    },
    {
     "data": {
      "image/png": "[encoded data removed]",
      "text/plain": [
       "<matplotlib.figure.Figure at 0x7fc7cd67fa58>"
      ]
     },
     "metadata": {},
     "output_type": "display_data"
    }
   ],
   "source": [
    "x = np.linspace(0,10)\n",
    "y = np.sin(x)\n",
    "z = np.exp(-x)\n",
    "plt.plot(x,y)\n",
    "plt.plot(x,z)"
   ]
  },
  {
   "cell_type": "code",
   "execution_count": 27,
   "metadata": {
    "collapsed": false,
    "deletable": true,
    "editable": true
   },
   "outputs": [
    {
     "data": {
      "text/plain": [
       "[<matplotlib.lines.Line2D at 0x7fc7ccf13828>]"
      ]
     },
     "execution_count": 27,
     "metadata": {},
     "output_type": "execute_result"
    },
    {
     "data": {
      "image/png": "[encoded data removed]",
      "text/plain": [
       "<matplotlib.figure.Figure at 0x7fc7cd67f860>"
      ]
     },
     "metadata": {},
     "output_type": "display_data"
    }
   ],
   "source": [
    "x = np.linspace(0,30) # bude to zubate\n",
    "bessel = spec.j1(x)   # funkci je tolik, ze si kazdy muze zvolit svou vlastni...\n",
    "plt.plot(x,bessel)"
   ]
  },
  {
   "cell_type": "code",
   "execution_count": 28,
   "metadata": {
    "collapsed": false,
    "deletable": true,
    "editable": true
   },
   "outputs": [
    {
     "data": {
      "text/plain": [
       "[<matplotlib.lines.Line2D at 0x7fc7ccefc588>]"
      ]
     },
     "execution_count": 28,
     "metadata": {},
     "output_type": "execute_result"
    },
    {
     "data": {
      "image/png": "[encoded data removed]",
      "text/plain": [
       "<matplotlib.figure.Figure at 0x7fc7ccf35048>"
      ]
     },
     "metadata": {},
     "output_type": "display_data"
    }
   ],
   "source": [
    "x = np.linspace(0,30,1000)   # zvolime jemnejsi deleni intervalu\n",
    "bessel = spec.j1(x)\n",
    "plt.plot(x,bessel)"
   ]
  },
  {
   "cell_type": "markdown",
   "metadata": {
    "deletable": true,
    "editable": true
   },
   "source": [
    "<h2>Definice vlastních funkcí</h2>\n",
    "\n",
    "<pre>def jmeno(argumenty):\n",
    "          prikaz(y)\n",
    "          return vysledek\n",
    "</pre>"
   ]
  },
  {
   "cell_type": "code",
   "execution_count": 29,
   "metadata": {
    "collapsed": false,
    "deletable": true,
    "editable": true
   },
   "outputs": [
    {
     "name": "stdout",
     "output_type": "stream",
     "text": [
      "Argument: 3\n",
      "Fun with fun: 4\n"
     ]
    }
   ],
   "source": [
    "# priklad\n",
    "def fun(x):\n",
    "    print(\"Argument:\",x)\n",
    "    return x + 1\n",
    "x = 3\n",
    "print(\"Fun with fun:\",fun(x))"
   ]
  },
  {
   "cell_type": "markdown",
   "metadata": {
    "deletable": true,
    "editable": true
   },
   "source": [
    "<h2>Fourierova řada</h2>\n",
    "<p>Nyní máme vše připraveno pro kreslení složených funkcí. Například aproximace pily:</p>\n",
    "$$ f(x) \\approx \\sum_{k=1}^N \\frac{(-1)^k}{k} \\sin(2\\pi k x)$$\n",
    "<a href=\"https://en.wikipedia.org/wiki/Sawtooth_wave\">Pila na wiki</a>"
   ]
  },
  {
   "cell_type": "code",
   "execution_count": 30,
   "metadata": {
    "collapsed": false,
    "deletable": true,
    "editable": true
   },
   "outputs": [],
   "source": [
    "def fourier(x,n):\n",
    "    t = 2*np.pi*x  # skalar\n",
    "    s = np.array([np.sin(t*k) for k in range(0,n)  if k >0])\n",
    "    a = np.array([(-1)**k/k for k in range(0,n) if k >0])\n",
    "    return sum(a*s)"
   ]
  },
  {
   "cell_type": "code",
   "execution_count": 31,
   "metadata": {
    "collapsed": false,
    "deletable": true,
    "editable": true
   },
   "outputs": [
    {
     "data": {
      "text/plain": [
       "[<matplotlib.lines.Line2D at 0x7fc7cce5edd8>]"
      ]
     },
     "execution_count": 31,
     "metadata": {},
     "output_type": "execute_result"
    },
    {
     "data": {
      "image/png": "[encoded data removed]",
      "text/plain": [
       "<matplotlib.figure.Figure at 0x7fc7ccf1a7b8>"
      ]
     },
     "metadata": {},
     "output_type": "display_data"
    }
   ],
   "source": [
    "x = np.linspace(0,1.5,1000)\n",
    "# tady nelze pouzit y = fourier(x), protoze mame jen skalarni argument\n",
    "y = [fourier(x[i],n=5) for i in range(0,1000)]    # volbou n menime presnost aproximace\n",
    "plt.plot(x,y)"
   ]
  },
  {
   "cell_type": "markdown",
   "metadata": {
    "deletable": true,
    "editable": true
   },
   "source": [
    "<h2>Rozlišení dalekohledu</h2>\n",
    "\n",
    "<img src=\"https://upload.wikimedia.org/wikipedia/commons/thumb/1/14/Airy-pattern.svg/220px-Airy-pattern.svg.png\"></img>\n",
    "\n",
    "<p><a href=\"https://en.wikipedia.org/wiki/Airy_disk\">wiki</a>.</p>\n",
    "\n",
    "\n",
    "<p>Rozlišením je konvenčně myšlena poloha prvního minima intensity $$I(x) = I_0 \\left( \\frac{J_1(x)}{x} \\right)^2,$$ kde $$x=\\frac{2\\pi}{\\lambda} R \\sin \\theta$$.</p>\n",
    "\n"
   ]
  },
  {
   "cell_type": "code",
   "execution_count": 32,
   "metadata": {
    "collapsed": false,
    "deletable": true,
    "editable": true
   },
   "outputs": [
    {
     "name": "stderr",
     "output_type": "stream",
     "text": [
      "/home/kubaw/.virtualenvs/modern/lib/python3.5/site-packages/ipykernel/__main__.py:2: RuntimeWarning: invalid value encountered in true_divide\n",
      "  from ipykernel import kernelapp as app\n"
     ]
    },
    {
     "data": {
      "text/plain": [
       "[<matplotlib.lines.Line2D at 0x7fc7cce4f320>]"
      ]
     },
     "execution_count": 32,
     "metadata": {},
     "output_type": "execute_result"
    },
    {
     "data": {
      "image/png": "[encoded data removed]",
      "text/plain": [
       "<matplotlib.figure.Figure at 0x7fc7cce85a58>"
      ]
     },
     "metadata": {},
     "output_type": "display_data"
    }
   ],
   "source": [
    "x = np.linspace(0,20,1000)\n",
    "y = (spec.j1(x)/x)**2\n",
    "plt.plot(x,y)"
   ]
  },
  {
   "cell_type": "markdown",
   "metadata": {
    "deletable": true,
    "editable": true
   },
   "source": [
    "<p>Hledání minima může být snadno nahrazeno řešením rovnice  $f(x) = J_1(x) / x = 0$</p>"
   ]
  },
  {
   "cell_type": "code",
   "execution_count": 33,
   "metadata": {
    "collapsed": false,
    "deletable": true,
    "editable": true
   },
   "outputs": [
    {
     "name": "stderr",
     "output_type": "stream",
     "text": [
      "/home/kubaw/.virtualenvs/modern/lib/python3.5/site-packages/ipykernel/__main__.py:1: RuntimeWarning: invalid value encountered in true_divide\n",
      "  if __name__ == '__main__':\n"
     ]
    }
   ],
   "source": [
    "y = spec.j1(x)/x "
   ]
  },
  {
   "cell_type": "code",
   "execution_count": 34,
   "metadata": {
    "collapsed": false,
    "deletable": true,
    "editable": true
   },
   "outputs": [
    {
     "data": {
      "text/plain": [
       "[<matplotlib.lines.Line2D at 0x7fc7ccf20208>]"
      ]
     },
     "execution_count": 34,
     "metadata": {},
     "output_type": "execute_result"
    },
    {
     "data": {
      "image/png": "[encoded data removed]",
      "text/plain": [
       "<matplotlib.figure.Figure at 0x7fc7ccf20cc0>"
      ]
     },
     "metadata": {},
     "output_type": "display_data"
    }
   ],
   "source": [
    "plt.grid()   # pridani mrizky do obrazku\n",
    "plt.plot(x,y)"
   ]
  },
  {
   "cell_type": "code",
   "execution_count": 35,
   "metadata": {
    "collapsed": false,
    "deletable": true,
    "editable": true
   },
   "outputs": [
    {
     "data": {
      "text/plain": [
       "[<matplotlib.lines.Line2D at 0x7fc7ccd63a58>]"
      ]
     },
     "execution_count": 35,
     "metadata": {},
     "output_type": "execute_result"
    },
    {
     "data": {
      "image/png": "[encoded data removed]",
      "text/plain": [
       "<matplotlib.figure.Figure at 0x7fc7ccd632b0>"
      ]
     },
     "metadata": {},
     "output_type": "display_data"
    }
   ],
   "source": [
    "plt.xlim(3,5)    # zmensime interval\n",
    "plt.grid()\n",
    "plt.plot(x,y)"
   ]
  },
  {
   "cell_type": "code",
   "execution_count": 36,
   "metadata": {
    "collapsed": false,
    "deletable": true,
    "editable": true
   },
   "outputs": [
    {
     "data": {
      "text/plain": [
       "[<matplotlib.lines.Line2D at 0x7fc7ccd38fd0>]"
      ]
     },
     "execution_count": 36,
     "metadata": {},
     "output_type": "execute_result"
    },
    {
     "data": {
      "image/png": "[encoded data removed]",
      "text/plain": [
       "<matplotlib.figure.Figure at 0x7fc7ccd38a20>"
      ]
     },
     "metadata": {},
     "output_type": "display_data"
    }
   ],
   "source": [
    "plt.xlim(3.5,4.0)    # znova zmensime interval\n",
    "plt.grid()\n",
    "plt.plot(x,y)"
   ]
  },
  {
   "cell_type": "code",
   "execution_count": 37,
   "metadata": {
    "collapsed": false,
    "deletable": true,
    "editable": true
   },
   "outputs": [
    {
     "data": {
      "text/plain": [
       "[<matplotlib.lines.Line2D at 0x7fc7cccb5860>]"
      ]
     },
     "execution_count": 37,
     "metadata": {},
     "output_type": "execute_result"
    },
    {
     "data": {
      "image/png": "[encoded data removed]",
      "text/plain": [
       "<matplotlib.figure.Figure at 0x7fc7cccb5780>"
      ]
     },
     "metadata": {},
     "output_type": "display_data"
    }
   ],
   "source": [
    "plt.xlim(3.8,3.9)    # a pokracujem ...\n",
    "plt.ylim(-0.1,0.1)\n",
    "plt.grid()\n",
    "plt.plot(x,y)"
   ]
  },
  {
   "cell_type": "code",
   "execution_count": 38,
   "metadata": {
    "collapsed": false,
    "deletable": true,
    "editable": true
   },
   "outputs": [
    {
     "data": {
      "text/plain": [
       "[<matplotlib.lines.Line2D at 0x7fc7ccc19710>]"
      ]
     },
     "execution_count": 38,
     "metadata": {},
     "output_type": "execute_result"
    },
    {
     "data": {
      "image/png": "[encoded data removed]",
      "text/plain": [
       "<matplotlib.figure.Figure at 0x7fc7ccc19550>"
      ]
     },
     "metadata": {},
     "output_type": "display_data"
    }
   ],
   "source": [
    "plt.xlim(3.82,3.85)    # a porad pokracujem ...\n",
    "plt.ylim(-0.01,0.01)\n",
    "plt.grid()\n",
    "plt.plot(x,y)"
   ]
  },
  {
   "cell_type": "code",
   "execution_count": 39,
   "metadata": {
    "collapsed": false,
    "deletable": true,
    "editable": true
   },
   "outputs": [
    {
     "data": {
      "text/plain": [
       "[<matplotlib.lines.Line2D at 0x7fc7ccc07588>]"
      ]
     },
     "execution_count": 39,
     "metadata": {},
     "output_type": "execute_result"
    },
    {
     "data": {
      "image/png": "[encoded data removed]",
      "text/plain": [
       "<matplotlib.figure.Figure at 0x7fc7ccc074a8>"
      ]
     },
     "metadata": {},
     "output_type": "display_data"
    }
   ],
   "source": [
    "plt.xlim(3.83,3.835)    # porad nekoncime...\n",
    "plt.ylim(-1e-3,1e-3)\n",
    "plt.grid()\n",
    "plt.plot(x,y)"
   ]
  },
  {
   "cell_type": "code",
   "execution_count": 40,
   "metadata": {
    "collapsed": false,
    "deletable": true,
    "editable": true
   },
   "outputs": [
    {
     "data": {
      "text/plain": [
       "[<matplotlib.lines.Line2D at 0x7fc7ccb6f390>]"
      ]
     },
     "execution_count": 40,
     "metadata": {},
     "output_type": "execute_result"
    },
    {
     "data": {
      "image/png": "[encoded data removed]",
      "text/plain": [
       "<matplotlib.figure.Figure at 0x7fc7ccb772e8>"
      ]
     },
     "metadata": {},
     "output_type": "display_data"
    }
   ],
   "source": [
    "plt.xlim(3.831,3.832)    # tak naposledy....\n",
    "plt.ylim(-1e-4,1e-4)\n",
    "plt.grid()\n",
    "plt.plot(x,y)"
   ]
  },
  {
   "cell_type": "markdown",
   "metadata": {
    "deletable": true,
    "editable": true
   },
   "source": [
    "<p>Výsledek řešení rovnice $f(x) = J_1(x)/x = 0$ je pro $x=3.8317 \\pm 0.0001$.</p>"
   ]
  },
  {
   "cell_type": "code",
   "execution_count": 41,
   "metadata": {
    "collapsed": false,
    "deletable": true,
    "editable": true
   },
   "outputs": [],
   "source": [
    "R = 0.1 # [m]\n",
    "lam = 550e-9  # [m]\n",
    "rad = 180 / np.pi # radian je asi 57.3 stupne"
   ]
  },
  {
   "cell_type": "code",
   "execution_count": 42,
   "metadata": {
    "collapsed": false,
    "deletable": true,
    "editable": true
   },
   "outputs": [],
   "source": [
    "theta = 3.8317 / (2*np.pi / lam * (R  / 2) ) * rad * 3600"
   ]
  },
  {
   "cell_type": "code",
   "execution_count": 43,
   "metadata": {
    "collapsed": false,
    "deletable": true,
    "editable": true
   },
   "outputs": [
    {
     "name": "stdout",
     "output_type": "stream",
     "text": [
      "Rozlišení dalekohledu o průměru 10.0 cm ve viditelném světle je 1.3836602000474 arcsec.\n"
     ]
    }
   ],
   "source": [
    "print(\"Rozlišení dalekohledu o průměru\",100*R,\"cm ve viditelném světle je\",theta,\"arcsec.\") # vomit"
   ]
  },
  {
   "cell_type": "code",
   "execution_count": 44,
   "metadata": {
    "collapsed": false,
    "deletable": true,
    "editable": true
   },
   "outputs": [
    {
     "name": "stdout",
     "output_type": "stream",
     "text": [
      "Rozlišení dalekohledu o průměru 10 cm ve viditelném světle je 1.4 arcsec.\n"
     ]
    }
   ],
   "source": [
    "print(\"Rozlišení dalekohledu o průměru {0:.0f} cm ve viditelném světle je {1:.1f} arcsec.\".format(100*R,theta))"
   ]
  },
  {
   "cell_type": "markdown",
   "metadata": {
    "deletable": true,
    "editable": true
   },
   "source": [
    "<h2>Půlení intervalu</h2>\n",
    "<p>Numerické řešení rovnice $f(x) = 0$ je založeno na počátečním odhadu krajů intervalu $a,b$ pro které musí platit $f(a) \\, f(b) < 0$. Ke správnému řešení se propracujeme pomocí půlení intervalu a testování předchozí podmínky. Tedy pro bod v polovině $$x = \\frac{a + b}{2}$$ a víme, že kořen je v tom intervalu, pokud $f(a) f(x) < 0$ nebo $f(b) f(x) < 0$."
   ]
  },
  {
   "cell_type": "code",
   "execution_count": 45,
   "metadata": {
    "collapsed": false,
    "deletable": true,
    "editable": true
   },
   "outputs": [
    {
     "name": "stdout",
     "output_type": "stream",
     "text": [
      "-0.00740457608177\n",
      "4.0 -0.00186604850144 0.00108172082188\n",
      "3.5 0.00443610298594 -0.000648062078761\n",
      "3.75 0.000347806919565 -0.000146305120305\n",
      "3.875 -3.96391159918e-05 7.38588178234e-05\n",
      "3.8125 1.80230579273e-05 -9.0985315435e-06\n",
      "3.84375 -2.56276530791e-06 5.63643260261e-06\n",
      "3.828125 7.66655651515e-07 -4.74934102115e-07\n",
      "3.8359375 -1.67375962565e-07 5.59501921616e-07\n",
      "3.83203125 -1.28859876927e-08 1.51804952389e-08\n",
      "3.830078125 6.4536539218e-08 -5.85326955748e-09\n",
      "3.8310546875 1.17240321812e-08 -2.34093331043e-09\n",
      "3.83154296875 1.17329295535e-09 -5.85771160592e-10\n",
      "3.831787109375 -1.46131203527e-10 2.91558387417e-10\n",
      "3.8316650390625 7.37202944816e-11 -3.6693117765e-11\n",
      "3.83172607421875 -9.09174324975e-12 1.80220032026e-11\n"
     ]
    }
   ],
   "source": [
    "def f(x):\n",
    "    return spec.j1(x)/x\n",
    "a = 3\n",
    "b = 5\n",
    "print(f(a)*f(b))\n",
    "x = (a + b) / 2\n",
    "print(x,f(x)*f(a),f(x)*f(b))\n",
    "b = x\n",
    "x = (a + b) / 2\n",
    "print(x,f(x)*f(a),f(x)*f(b))\n",
    "a = x\n",
    "x = (a + b) / 2\n",
    "print(x,f(x)*f(a),f(x)*f(b))\n",
    "a = x\n",
    "x = (a + b) / 2\n",
    "print(x,f(x)*f(a),f(x)*f(b))\n",
    "b = x\n",
    "x = (a + b) / 2\n",
    "print(x,f(x)*f(a),f(x)*f(b))\n",
    "a = x\n",
    "x = (a + b) / 2\n",
    "print(x,f(x)*f(a),f(x)*f(b))\n",
    "b = x\n",
    "x = (a + b) / 2\n",
    "print(x,f(x)*f(a),f(x)*f(b))\n",
    "a = x\n",
    "x = (a + b) / 2\n",
    "print(x,f(x)*f(a),f(x)*f(b))\n",
    "b = x\n",
    "x = (a + b) / 2\n",
    "print(x,f(x)*f(a),f(x)*f(b))\n",
    "b = x\n",
    "x = (a + b) / 2\n",
    "print(x,f(x)*f(a),f(x)*f(b))\n",
    "a = x\n",
    "x = (a + b) / 2\n",
    "print(x,f(x)*f(a),f(x)*f(b))\n",
    "a = x\n",
    "x = (a + b) / 2\n",
    "print(x,f(x)*f(a),f(x)*f(b))\n",
    "a = x\n",
    "x = (a + b) / 2\n",
    "print(x,f(x)*f(a),f(x)*f(b))\n",
    "b = x\n",
    "x = (a + b) / 2\n",
    "print(x,f(x)*f(a),f(x)*f(b))\n",
    "a = x\n",
    "x = (a + b) / 2\n",
    "print(x,f(x)*f(a),f(x)*f(b))\n",
    "#for k in range(0,17):\n",
    "#    x = (a + b)/2\n",
    "#    if "
   ]
  },
  {
   "cell_type": "markdown",
   "metadata": {
    "deletable": true,
    "editable": true
   },
   "source": [
    "<p>Potřebujeme nějak učinně opakovat výpočty a rozhodovat se na základě hodnot funkce.</p>"
   ]
  },
  {
   "cell_type": "markdown",
   "metadata": {
    "deletable": true,
    "editable": true
   },
   "source": [
    "<h2>Cykly</h2>\n",
    "<p>Cyklické opakování je možné zařídit prostřednictvím příkazu</p>\n",
    "<pre>for k in [vektor]:\n",
    "        prikaz(y)\n",
    "        </pre>"
   ]
  },
  {
   "cell_type": "code",
   "execution_count": 46,
   "metadata": {
    "collapsed": false,
    "deletable": true,
    "editable": true
   },
   "outputs": [
    {
     "name": "stdout",
     "output_type": "stream",
     "text": [
      "# 0  x= 1\n",
      "# 1  x= 2\n",
      "# 2  x= 5\n"
     ]
    }
   ],
   "source": [
    "# priklad cyklu\n",
    "for i in range(0,3):\n",
    "    x = 1 + i**2\n",
    "    print(\"#\",i,\" x=\",x)"
   ]
  },
  {
   "cell_type": "markdown",
   "metadata": {
    "deletable": true,
    "editable": true
   },
   "source": [
    "<h2>Rozhodovací podmínky</h2>\n",
    "<p>Občas je potřeba se rozhodnout v závislosti na hodnotě nějaké podmínky. To je možné prostřednictvím příkazu:</p>\n",
    "<pre>if podminka:\n",
    "        prikaz(y), pokud je splnena\n",
    "     else:\n",
    "         prikaz(y), pokud neni splnena\n",
    "</pre>"
   ]
  },
  {
   "cell_type": "code",
   "execution_count": 47,
   "metadata": {
    "collapsed": false,
    "deletable": true,
    "editable": true
   },
   "outputs": [
    {
     "name": "stdout",
     "output_type": "stream",
     "text": [
      "Podmínka nesplněna: False\n"
     ]
    }
   ],
   "source": [
    "# priklad podminky\n",
    "a = 1\n",
    "b = 2\n",
    "if (a > b):\n",
    "    print(\"Podmínka splněna:\", a > b)\n",
    "else:\n",
    "    print(\"Podmínka nesplněna:\",a > b)"
   ]
  },
  {
   "cell_type": "markdown",
   "metadata": {
    "deletable": true,
    "editable": true
   },
   "source": [
    "<h2>Automatické půlení</h2>"
   ]
  },
  {
   "cell_type": "code",
   "execution_count": 48,
   "metadata": {
    "collapsed": false,
    "deletable": true,
    "editable": true
   },
   "outputs": [
    {
     "name": "stdout",
     "output_type": "stream",
     "text": [
      "# 0  x= 4.0\n",
      "# 1  x= 3.5\n",
      "# 2  x= 3.75\n",
      "# 3  x= 3.875\n",
      "# 4  x= 3.8125\n",
      "# 5  x= 3.84375\n",
      "# 6  x= 3.828125\n",
      "# 7  x= 3.8359375\n",
      "# 8  x= 3.83203125\n",
      "# 9  x= 3.830078125\n",
      "# 10  x= 3.8310546875\n",
      "# 11  x= 3.83154296875\n",
      "# 12  x= 3.831787109375\n",
      "# 13  x= 3.8316650390625\n",
      "# 14  x= 3.83172607421875\n",
      "# 15  x= 3.831695556640625\n",
      "# 16  x= 3.8317108154296875\n",
      "# 17  x= 3.8317031860351562\n",
      "# 18  x= 3.831707000732422\n",
      "# 19  x= 3.831705093383789\n"
     ]
    }
   ],
   "source": [
    "a = 3\n",
    "b = 5\n",
    "for k in range(0,20):\n",
    "    x = (a + b) / 2\n",
    "    if (f(x)*f(a) < 0):\n",
    "        b = x\n",
    "    else:\n",
    "        a = x\n",
    "    print(\"#\",k,\" x=\",x)"
   ]
  },
  {
   "cell_type": "code",
   "execution_count": 49,
   "metadata": {
    "collapsed": false,
    "deletable": true,
    "editable": true
   },
   "outputs": [],
   "source": [
    "def pulky(f,a,b):\n",
    "    for k in range(0,20):\n",
    "        x = (a + b) / 2\n",
    "        if (f(x)*f(a) < 0):\n",
    "            b = x\n",
    "        else:\n",
    "            a = x\n",
    "    return x"
   ]
  },
  {
   "cell_type": "code",
   "execution_count": 50,
   "metadata": {
    "collapsed": false,
    "deletable": true,
    "editable": true
   },
   "outputs": [
    {
     "name": "stdout",
     "output_type": "stream",
     "text": [
      "Funkce na pulky 3.8317.\n"
     ]
    }
   ],
   "source": [
    "print(\"Funkce na pulky {0:.4f}.\".format(pulky(f,3,5)))"
   ]
  },
  {
   "cell_type": "markdown",
   "metadata": {
    "deletable": true,
    "editable": true
   },
   "source": [
    "<h2>Knihovní funkce</h2>\n",
    "<a href=\"https://docs.scipy.org/doc/scipy/reference/optimize.html#root-finding\">Root finding</a>"
   ]
  },
  {
   "cell_type": "code",
   "execution_count": 51,
   "metadata": {
    "collapsed": false,
    "deletable": true,
    "editable": true
   },
   "outputs": [
    {
     "name": "stdout",
     "output_type": "stream",
     "text": [
      "Brent's method for x= 3.8317059702074103\n"
     ]
    }
   ],
   "source": [
    "import scipy.optimize\n",
    "x = scipy.optimize.brentq(f,3,5)\n",
    "print(\"Brent's method for x=\",x)"
   ]
  },
  {
   "cell_type": "code",
   "execution_count": null,
   "metadata": {
    "collapsed": false,
    "deletable": true,
    "editable": true
   },
   "outputs": [],
   "source": []
  }
 ],
 "metadata": {
  "kernelspec": {
   "display_name": "Python 3",
   "language": "python",
   "name": "python3"
  },
  "language_info": {
   "codemirror_mode": {
    "name": "ipython",
    "version": 3
   },
   "file_extension": ".py",
   "mimetype": "text/x-python",
   "name": "python",
   "nbconvert_exporter": "python",
   "pygments_lexer": "ipython3",
   "version": "3.5.2"
  }
 },
 "nbformat": 4,
 "nbformat_minor": 0
}
