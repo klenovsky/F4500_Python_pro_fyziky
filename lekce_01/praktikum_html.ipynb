{
 "cells": [
  {
   "cell_type": "markdown",
   "metadata": {},
   "source": [
    "# Praktikum"
   ]
  },
  {
   "cell_type": "markdown",
   "metadata": {},
   "source": [
    "## Úvod"
   ]
  },
  {
   "cell_type": "markdown",
   "metadata": {},
   "source": [
    "V tomto praktiku si předvedeme určení neznámé veličiny $C$ a její závoslost na veličině $T$. Budeme uvažovat komplikovaný vztah $$C = A \\cdot B.$$\n",
    "Veličíny $A$, $B$ a $T$ jsme určili měřením."
   ]
  },
  {
   "cell_type": "markdown",
   "metadata": {},
   "source": [
    "## Měření"
   ]
  },
  {
   "cell_type": "code",
   "execution_count": 4,
   "metadata": {
    "collapsed": false
   },
   "outputs": [],
   "source": [
    "import numpy\n",
    "import pandas\n",
    "import scipy.optimize\n",
    "\n",
    "data = pandas.read_csv('data.csv')\n",
    "data['C'] = data['A'] * data['B']\n",
    "\n",
    "def f(x, C0, C1):\n",
    "    return C0 * x + C1\n",
    "\n",
    "popt, pcov = scipy.optimize.curve_fit(f, data['T'], data['C'])\n",
    "x = numpy.linspace(data['T'].min(), data['T'].max(), 100)\n",
    "y = popt[0] * x + popt[1]"
   ]
  },
  {
   "cell_type": "code",
   "execution_count": 5,
   "metadata": {
    "collapsed": false
   },
   "outputs": [],
   "source": [
    "import tabulate\n",
    "table = tabulate.tabulate(data, tablefmt=\"html\", headers=['#'] + list(data.columns.values), floatfmt='0.4f')"
   ]
  },
  {
   "cell_type": "code",
   "execution_count": 6,
   "metadata": {
    "collapsed": false
   },
   "outputs": [
    {
     "data": {
      "text/html": [
       "<table>\n",
       "<thead>\n",
       "<tr><th style=\"text-align: right;\">     #</th><th style=\"text-align: right;\">      T</th><th style=\"text-align: right;\">     A</th><th style=\"text-align: right;\">       B</th><th style=\"text-align: right;\">      C</th></tr>\n",
       "</thead>\n",
       "<tbody>\n",
       "<tr><td style=\"text-align: right;\">0.0000</td><td style=\"text-align: right;\">15.0000</td><td style=\"text-align: right;\">0.1734</td><td style=\"text-align: right;\">459.0000</td><td style=\"text-align: right;\">79.5906</td></tr>\n",
       "<tr><td style=\"text-align: right;\">1.0000</td><td style=\"text-align: right;\">16.0000</td><td style=\"text-align: right;\">0.1782</td><td style=\"text-align: right;\">450.0000</td><td style=\"text-align: right;\">80.1900</td></tr>\n",
       "<tr><td style=\"text-align: right;\">2.0000</td><td style=\"text-align: right;\">17.0000</td><td style=\"text-align: right;\">0.1831</td><td style=\"text-align: right;\">441.0000</td><td style=\"text-align: right;\">80.7471</td></tr>\n",
       "<tr><td style=\"text-align: right;\">3.0000</td><td style=\"text-align: right;\">18.0000</td><td style=\"text-align: right;\">0.1880</td><td style=\"text-align: right;\">435.0000</td><td style=\"text-align: right;\">81.7800</td></tr>\n",
       "<tr><td style=\"text-align: right;\">4.0000</td><td style=\"text-align: right;\">19.0000</td><td style=\"text-align: right;\">0.1928</td><td style=\"text-align: right;\">427.0000</td><td style=\"text-align: right;\">82.3256</td></tr>\n",
       "<tr><td style=\"text-align: right;\">5.0000</td><td style=\"text-align: right;\">20.0000</td><td style=\"text-align: right;\">0.1976</td><td style=\"text-align: right;\">419.0000</td><td style=\"text-align: right;\">82.7944</td></tr>\n",
       "<tr><td style=\"text-align: right;\">6.0000</td><td style=\"text-align: right;\">21.0000</td><td style=\"text-align: right;\">0.2024</td><td style=\"text-align: right;\">411.0000</td><td style=\"text-align: right;\">83.1864</td></tr>\n",
       "</tbody>\n",
       "</table>"
      ],
      "text/plain": [
       "<IPython.core.display.HTML object>"
      ]
     },
     "metadata": {},
     "output_type": "display_data"
    }
   ],
   "source": [
    "import IPython.display\n",
    "IPython.display.display(IPython.display.HTML(table))"
   ]
  },
  {
   "cell_type": "markdown",
   "metadata": {},
   "source": [
    "Základní grafická vizualizace dat je také velice jednoduchá:"
   ]
  },
  {
   "cell_type": "code",
   "execution_count": 7,
   "metadata": {
    "collapsed": false
   },
   "outputs": [
    {
     "data": {
      "text/html": [
       "\n",
       "    <div class=\"bk-banner\">\n",
       "        <a href=\"http://bokeh.pydata.org\" target=\"_blank\" class=\"bk-logo bk-logo-small bk-logo-notebook\"></a>\n",
       "        <span id=\"88fc42df-b9f9-4a18-b10b-0069e2dcc979\">Loading BokehJS ...</span>\n",
       "    </div>"
      ]
     },
     "metadata": {},
     "output_type": "display_data"
    },
    {
     "data": {
      "application/javascript": [
       "\n",
       "(function(global) {\n",
       "  function now() {\n",
       "    return new Date();\n",
       "  }\n",
       "\n",
       "  if (typeof (window._bokeh_onload_callbacks) === \"undefined\") {\n",
       "    window._bokeh_onload_callbacks = [];\n",
       "  }\n",
       "\n",
       "  function run_callbacks() {\n",
       "    window._bokeh_onload_callbacks.forEach(function(callback) { callback() });\n",
       "    delete window._bokeh_onload_callbacks\n",
       "    console.info(\"Bokeh: all callbacks have finished\");\n",
       "  }\n",
       "\n",
       "  function load_libs(js_urls, callback) {\n",
       "    window._bokeh_onload_callbacks.push(callback);\n",
       "    if (window._bokeh_is_loading > 0) {\n",
       "      console.log(\"Bokeh: BokehJS is being loaded, scheduling callback at\", now());\n",
       "      return null;\n",
       "    }\n",
       "    if (js_urls == null || js_urls.length === 0) {\n",
       "      run_callbacks();\n",
       "      return null;\n",
       "    }\n",
       "    console.log(\"Bokeh: BokehJS not loaded, scheduling load and callback at\", now());\n",
       "    window._bokeh_is_loading = js_urls.length;\n",
       "    for (var i = 0; i < js_urls.length; i++) {\n",
       "      var url = js_urls[i];\n",
       "      var s = document.createElement('script');\n",
       "      s.src = url;\n",
       "      s.async = false;\n",
       "      s.onreadystatechange = s.onload = function() {\n",
       "        window._bokeh_is_loading--;\n",
       "        if (window._bokeh_is_loading === 0) {\n",
       "          console.log(\"Bokeh: all BokehJS libraries loaded\");\n",
       "          run_callbacks()\n",
       "        }\n",
       "      };\n",
       "      s.onerror = function() {\n",
       "        console.warn(\"failed to load library \" + url);\n",
       "      };\n",
       "      console.log(\"Bokeh: injecting script tag for BokehJS library: \", url);\n",
       "      document.getElementsByTagName(\"head\")[0].appendChild(s);\n",
       "    }\n",
       "  };\n",
       "\n",
       "  var js_urls = ['https://cdn.pydata.org/bokeh/release/bokeh-0.11.1.min.js', 'https://cdn.pydata.org/bokeh/release/bokeh-widgets-0.11.1.min.js', 'https://cdn.pydata.org/bokeh/release/bokeh-compiler-0.11.1.min.js'];\n",
       "\n",
       "  var inline_js = [\n",
       "    function(Bokeh) {\n",
       "      Bokeh.set_log_level(\"info\");\n",
       "    },\n",
       "    \n",
       "    function(Bokeh) {\n",
       "      Bokeh.$(\"#88fc42df-b9f9-4a18-b10b-0069e2dcc979\").text(\"BokehJS successfully loaded\");\n",
       "    },\n",
       "    function(Bokeh) {\n",
       "      console.log(\"Bokeh: injecting CSS: https://cdn.pydata.org/bokeh/release/bokeh-0.11.1.min.css\");\n",
       "      Bokeh.embed.inject_css(\"https://cdn.pydata.org/bokeh/release/bokeh-0.11.1.min.css\");\n",
       "      console.log(\"Bokeh: injecting CSS: https://cdn.pydata.org/bokeh/release/bokeh-widgets-0.11.1.min.css\");\n",
       "      Bokeh.embed.inject_css(\"https://cdn.pydata.org/bokeh/release/bokeh-widgets-0.11.1.min.css\");\n",
       "    }\n",
       "  ];\n",
       "\n",
       "  function run_inline_js() {\n",
       "    for (var i = 0; i < inline_js.length; i++) {\n",
       "      inline_js[i](window.Bokeh);\n",
       "    }\n",
       "  }\n",
       "\n",
       "  if (window._bokeh_is_loading === 0) {\n",
       "    console.log(\"Bokeh: BokehJS loaded, going straight to plotting\");\n",
       "    run_inline_js();\n",
       "  } else {\n",
       "    load_libs(js_urls, function() {\n",
       "      console.log(\"Bokeh: BokehJS plotting callback run at\", now());\n",
       "      run_inline_js();\n",
       "    });\n",
       "  }\n",
       "}(this));"
      ]
     },
     "metadata": {},
     "output_type": "display_data"
    }
   ],
   "source": [
    "import bokeh\n",
    "import bokeh.plotting\n",
    "import bokeh.io\n",
    "bokeh.io.output_notebook();"
   ]
  },
  {
   "cell_type": "code",
   "execution_count": 8,
   "metadata": {
    "collapsed": false
   },
   "outputs": [
    {
     "data": {
      "text/html": [
       "\n",
       "\n",
       "    <div class=\"plotdiv\" id=\"66cf5b17-82ea-405c-8227-5c58ce7c1994\"></div>\n",
       "<script type=\"text/javascript\">\n",
       "  \n",
       "  (function(global) {\n",
       "    function now() {\n",
       "      return new Date();\n",
       "    }\n",
       "  \n",
       "    if (typeof (window._bokeh_onload_callbacks) === \"undefined\") {\n",
       "      window._bokeh_onload_callbacks = [];\n",
       "    }\n",
       "  \n",
       "    function run_callbacks() {\n",
       "      window._bokeh_onload_callbacks.forEach(function(callback) { callback() });\n",
       "      delete window._bokeh_onload_callbacks\n",
       "      console.info(\"Bokeh: all callbacks have finished\");\n",
       "    }\n",
       "  \n",
       "    function load_libs(js_urls, callback) {\n",
       "      window._bokeh_onload_callbacks.push(callback);\n",
       "      if (window._bokeh_is_loading > 0) {\n",
       "        console.log(\"Bokeh: BokehJS is being loaded, scheduling callback at\", now());\n",
       "        return null;\n",
       "      }\n",
       "      if (js_urls == null || js_urls.length === 0) {\n",
       "        run_callbacks();\n",
       "        return null;\n",
       "      }\n",
       "      console.log(\"Bokeh: BokehJS not loaded, scheduling load and callback at\", now());\n",
       "      window._bokeh_is_loading = js_urls.length;\n",
       "      for (var i = 0; i < js_urls.length; i++) {\n",
       "        var url = js_urls[i];\n",
       "        var s = document.createElement('script');\n",
       "        s.src = url;\n",
       "        s.async = false;\n",
       "        s.onreadystatechange = s.onload = function() {\n",
       "          window._bokeh_is_loading--;\n",
       "          if (window._bokeh_is_loading === 0) {\n",
       "            console.log(\"Bokeh: all BokehJS libraries loaded\");\n",
       "            run_callbacks()\n",
       "          }\n",
       "        };\n",
       "        s.onerror = function() {\n",
       "          console.warn(\"failed to load library \" + url);\n",
       "        };\n",
       "        console.log(\"Bokeh: injecting script tag for BokehJS library: \", url);\n",
       "        document.getElementsByTagName(\"head\")[0].appendChild(s);\n",
       "      }\n",
       "    };var element = document.getElementById(\"66cf5b17-82ea-405c-8227-5c58ce7c1994\");\n",
       "    if (element == null) {\n",
       "      console.log(\"Bokeh: ERROR: autoload.js configured with elementid '66cf5b17-82ea-405c-8227-5c58ce7c1994' but no matching script tag was found. \")\n",
       "      return false;\n",
       "    }\n",
       "  \n",
       "    var js_urls = [];\n",
       "  \n",
       "    var inline_js = [\n",
       "      function(Bokeh) {\n",
       "        Bokeh.$(function() {\n",
       "            var docs_json = {\"14541121-d9ff-4606-b814-fa2a2ded535d\":{\"roots\":{\"references\":[{\"attributes\":{\"plot\":{\"id\":\"c7cccedc-b80e-4c30-b0ff-8aebcddd147e\",\"subtype\":\"Figure\",\"type\":\"Plot\"}},\"id\":\"d827ea38-49c1-4020-8886-57697527c491\",\"type\":\"PanTool\"},{\"attributes\":{\"callback\":null,\"column_names\":[\"y\",\"x\"],\"data\":{\"x\":[15.0,15.06060606060606,15.121212121212121,15.181818181818182,15.242424242424242,15.303030303030303,15.363636363636363,15.424242424242424,15.484848484848484,15.545454545454545,15.606060606060606,15.666666666666666,15.727272727272727,15.787878787878787,15.848484848484848,15.90909090909091,15.969696969696969,16.03030303030303,16.09090909090909,16.151515151515152,16.21212121212121,16.272727272727273,16.333333333333332,16.393939393939394,16.454545454545453,16.515151515151516,16.575757575757574,16.636363636363637,16.696969696969695,16.757575757575758,16.81818181818182,16.87878787878788,16.939393939393938,17.0,17.060606060606062,17.12121212121212,17.18181818181818,17.242424242424242,17.303030303030305,17.363636363636363,17.424242424242426,17.484848484848484,17.545454545454547,17.606060606060606,17.666666666666668,17.727272727272727,17.78787878787879,17.848484848484848,17.90909090909091,17.96969696969697,18.03030303030303,18.09090909090909,18.151515151515152,18.21212121212121,18.272727272727273,18.333333333333332,18.393939393939394,18.454545454545453,18.515151515151516,18.575757575757574,18.636363636363637,18.696969696969695,18.757575757575758,18.81818181818182,18.87878787878788,18.939393939393938,19.0,19.060606060606062,19.12121212121212,19.18181818181818,19.242424242424242,19.303030303030305,19.363636363636363,19.424242424242426,19.484848484848484,19.545454545454547,19.606060606060606,19.666666666666668,19.727272727272727,19.78787878787879,19.848484848484848,19.90909090909091,19.96969696969697,20.03030303030303,20.09090909090909,20.151515151515152,20.21212121212121,20.272727272727273,20.333333333333336,20.393939393939394,20.454545454545453,20.515151515151516,20.575757575757578,20.636363636363637,20.696969696969695,20.757575757575758,20.81818181818182,20.87878787878788,20.939393939393938,21.0],\"y\":[79.63329642871022,79.67133690490064,79.70937738109107,79.7474178572815,79.78545833347192,79.82349880966235,79.86153928585279,79.89957976204322,79.93762023823363,79.97566071442407,80.0137011906145,80.05174166680492,80.08978214299535,80.12782261918578,80.1658630953762,80.20390357156663,80.24194404775706,80.27998452394748,80.31802500013791,80.35606547632834,80.39410595251876,80.43214642870919,80.47018690489962,80.50822738109004,80.54626785728047,80.5843083334709,80.62234880966132,80.66038928585175,80.69842976204218,80.73647023823261,80.77451071442303,80.81255119061346,80.85059166680388,80.88863214299431,80.92667261918474,80.96471309537517,81.00275357156559,81.04079404775602,81.07883452394645,81.11687500013687,81.1549154763273,81.19295595251774,81.23099642870815,81.26903690489858,81.30707738108902,81.34511785727943,81.38315833346986,81.4211988096603,81.45923928585071,81.49727976204115,81.53532023823158,81.573360714422,81.61140119061243,81.64944166680286,81.68748214299328,81.7255226191837,81.76356309537414,81.80160357156456,81.83964404775499,81.87768452394542,81.91572500013584,81.95376547632627,81.9918059525167,82.02984642870712,82.06788690489755,82.10592738108798,82.1439678572784,82.18200833346883,82.22004880965926,82.25808928584968,82.29612976204011,82.33417023823054,82.37221071442096,82.41025119061139,82.44829166680182,82.48633214299224,82.52437261918267,82.5624130953731,82.60045357156352,82.63849404775395,82.67653452394438,82.7145750001348,82.75261547632523,82.79065595251566,82.82869642870608,82.86673690489651,82.90477738108694,82.94281785727738,82.9808583334678,83.01889880965822,83.05693928584864,83.09497976203907,83.1330202382295,83.17106071441994,83.20910119061035,83.24714166680079,83.28518214299122,83.32322261918164,83.36126309537207,83.3993035715625]}},\"id\":\"80b54e52-8154-4c2c-9470-b48acb4ba1b9\",\"type\":\"ColumnDataSource\"},{\"attributes\":{\"overlay\":{\"id\":\"c8f35f7e-ba56-4080-98ed-a8db85753d31\",\"type\":\"BoxAnnotation\"},\"plot\":{\"id\":\"c7cccedc-b80e-4c30-b0ff-8aebcddd147e\",\"subtype\":\"Figure\",\"type\":\"Plot\"}},\"id\":\"fbbe8889-9dc6-415c-9bf2-d288380af6cd\",\"type\":\"BoxZoomTool\"},{\"attributes\":{\"callback\":null,\"column_names\":[\"y\",\"x\"],\"data\":{\"x\":[15.0,16.0,17.0,18.0,19.0,20.0,21.0],\"y\":[79.5906,80.19,80.7471,81.78,82.3256,82.7944,83.18639999999999]}},\"id\":\"68f297d5-4b7e-4db7-9bde-5d5f24a6b966\",\"type\":\"ColumnDataSource\"},{\"attributes\":{},\"id\":\"47e6567f-1bc7-48a2-a22f-f244fc033899\",\"type\":\"BasicTicker\"},{\"attributes\":{\"dimension\":1,\"plot\":{\"id\":\"c7cccedc-b80e-4c30-b0ff-8aebcddd147e\",\"subtype\":\"Figure\",\"type\":\"Plot\"},\"ticker\":{\"id\":\"47e6567f-1bc7-48a2-a22f-f244fc033899\",\"type\":\"BasicTicker\"}},\"id\":\"bddfa2dc-1647-4198-b479-7bfbe87612d7\",\"type\":\"Grid\"},{\"attributes\":{\"plot\":{\"id\":\"c7cccedc-b80e-4c30-b0ff-8aebcddd147e\",\"subtype\":\"Figure\",\"type\":\"Plot\"}},\"id\":\"3e3e0081-1d45-41be-a86d-aa7bf04f18e0\",\"type\":\"ResetTool\"},{\"attributes\":{\"plot\":{\"id\":\"c7cccedc-b80e-4c30-b0ff-8aebcddd147e\",\"subtype\":\"Figure\",\"type\":\"Plot\"}},\"id\":\"e5415c79-6aa0-4425-bbd6-a9db06862eec\",\"type\":\"ResizeTool\"},{\"attributes\":{\"bottom_units\":\"screen\",\"fill_alpha\":{\"value\":0.5},\"fill_color\":{\"value\":\"lightgrey\"},\"left_units\":\"screen\",\"level\":\"overlay\",\"line_alpha\":{\"value\":1.0},\"line_color\":{\"value\":\"black\"},\"line_dash\":[4,4],\"line_width\":{\"value\":2},\"plot\":null,\"render_mode\":\"css\",\"right_units\":\"screen\",\"top_units\":\"screen\"},\"id\":\"c8f35f7e-ba56-4080-98ed-a8db85753d31\",\"type\":\"BoxAnnotation\"},{\"attributes\":{\"axis_label\":\"T\",\"formatter\":{\"id\":\"336b468e-685c-4618-ae4b-3a6df7debee7\",\"type\":\"BasicTickFormatter\"},\"plot\":{\"id\":\"c7cccedc-b80e-4c30-b0ff-8aebcddd147e\",\"subtype\":\"Figure\",\"type\":\"Plot\"},\"ticker\":{\"id\":\"3a4474cb-5551-46c7-928b-ada7ef00bf9b\",\"type\":\"BasicTicker\"}},\"id\":\"b11c05bf-9754-449c-87f9-a2405179c91b\",\"type\":\"LinearAxis\"},{\"attributes\":{\"fill_color\":{\"value\":\"#1f77b4\"},\"line_color\":{\"value\":\"#1f77b4\"},\"size\":{\"units\":\"screen\",\"value\":10},\"x\":{\"field\":\"x\"},\"y\":{\"field\":\"y\"}},\"id\":\"c3df72f0-f680-44bf-aff7-867c25b0788d\",\"type\":\"Circle\"},{\"attributes\":{\"data_source\":{\"id\":\"80b54e52-8154-4c2c-9470-b48acb4ba1b9\",\"type\":\"ColumnDataSource\"},\"glyph\":{\"id\":\"8e756fb7-7b25-4e74-92a5-7b3352b3bd11\",\"type\":\"Line\"},\"hover_glyph\":null,\"nonselection_glyph\":{\"id\":\"24d18f02-6c90-4939-9a46-3ee2d00faa89\",\"type\":\"Line\"},\"selection_glyph\":null},\"id\":\"1d4fe138-3f03-4431-9e98-4b144c3beef8\",\"type\":\"GlyphRenderer\"},{\"attributes\":{\"line_alpha\":{\"value\":0.1},\"line_color\":{\"value\":\"#1f77b4\"},\"x\":{\"field\":\"x\"},\"y\":{\"field\":\"y\"}},\"id\":\"24d18f02-6c90-4939-9a46-3ee2d00faa89\",\"type\":\"Line\"},{\"attributes\":{\"data_source\":{\"id\":\"68f297d5-4b7e-4db7-9bde-5d5f24a6b966\",\"type\":\"ColumnDataSource\"},\"glyph\":{\"id\":\"c3df72f0-f680-44bf-aff7-867c25b0788d\",\"type\":\"Circle\"},\"hover_glyph\":null,\"nonselection_glyph\":{\"id\":\"ef4ce31c-77cd-457b-acbc-25ed6a0a138e\",\"type\":\"Circle\"},\"selection_glyph\":null},\"id\":\"0ac64e8a-a700-480f-b2a3-804e9063e18d\",\"type\":\"GlyphRenderer\"},{\"attributes\":{\"callback\":null},\"id\":\"45c2e262-f8d1-4754-a1f7-109b804f0bcf\",\"type\":\"DataRange1d\"},{\"attributes\":{\"line_color\":{\"value\":\"green\"},\"x\":{\"field\":\"x\"},\"y\":{\"field\":\"y\"}},\"id\":\"8e756fb7-7b25-4e74-92a5-7b3352b3bd11\",\"type\":\"Line\"},{\"attributes\":{},\"id\":\"3a4474cb-5551-46c7-928b-ada7ef00bf9b\",\"type\":\"BasicTicker\"},{\"attributes\":{\"plot\":{\"id\":\"c7cccedc-b80e-4c30-b0ff-8aebcddd147e\",\"subtype\":\"Figure\",\"type\":\"Plot\"}},\"id\":\"7886b213-7570-4872-9937-3f63f9ad3275\",\"type\":\"WheelZoomTool\"},{\"attributes\":{\"fill_alpha\":{\"value\":0.1},\"fill_color\":{\"value\":\"#1f77b4\"},\"line_alpha\":{\"value\":0.1},\"line_color\":{\"value\":\"#1f77b4\"},\"size\":{\"units\":\"screen\",\"value\":10},\"x\":{\"field\":\"x\"},\"y\":{\"field\":\"y\"}},\"id\":\"ef4ce31c-77cd-457b-acbc-25ed6a0a138e\",\"type\":\"Circle\"},{\"attributes\":{\"plot\":{\"id\":\"c7cccedc-b80e-4c30-b0ff-8aebcddd147e\",\"subtype\":\"Figure\",\"type\":\"Plot\"}},\"id\":\"4ad6865f-c7fc-4e56-b772-39d279dff440\",\"type\":\"PreviewSaveTool\"},{\"attributes\":{},\"id\":\"69e8875f-b86d-4b5c-8d1f-e7c7bd2b0f57\",\"type\":\"ToolEvents\"},{\"attributes\":{\"callback\":null},\"id\":\"f79403eb-a6c7-4537-a6a5-96832eb1a9b7\",\"type\":\"DataRange1d\"},{\"attributes\":{\"axis_label\":\"C\",\"formatter\":{\"id\":\"3f3c1875-c873-4d94-99b0-9411e782b24c\",\"type\":\"BasicTickFormatter\"},\"plot\":{\"id\":\"c7cccedc-b80e-4c30-b0ff-8aebcddd147e\",\"subtype\":\"Figure\",\"type\":\"Plot\"},\"ticker\":{\"id\":\"47e6567f-1bc7-48a2-a22f-f244fc033899\",\"type\":\"BasicTicker\"}},\"id\":\"801b94bb-86f5-4fe8-8831-d0ddb5fbf00a\",\"type\":\"LinearAxis\"},{\"attributes\":{\"below\":[{\"id\":\"b11c05bf-9754-449c-87f9-a2405179c91b\",\"type\":\"LinearAxis\"}],\"left\":[{\"id\":\"801b94bb-86f5-4fe8-8831-d0ddb5fbf00a\",\"type\":\"LinearAxis\"}],\"plot_height\":450,\"plot_width\":800,\"renderers\":[{\"id\":\"b11c05bf-9754-449c-87f9-a2405179c91b\",\"type\":\"LinearAxis\"},{\"id\":\"4e22d846-d486-44c7-bf8d-1d25763d4c37\",\"type\":\"Grid\"},{\"id\":\"801b94bb-86f5-4fe8-8831-d0ddb5fbf00a\",\"type\":\"LinearAxis\"},{\"id\":\"bddfa2dc-1647-4198-b479-7bfbe87612d7\",\"type\":\"Grid\"},{\"id\":\"c8f35f7e-ba56-4080-98ed-a8db85753d31\",\"type\":\"BoxAnnotation\"},{\"id\":\"0ac64e8a-a700-480f-b2a3-804e9063e18d\",\"type\":\"GlyphRenderer\"},{\"id\":\"1d4fe138-3f03-4431-9e98-4b144c3beef8\",\"type\":\"GlyphRenderer\"}],\"tool_events\":{\"id\":\"69e8875f-b86d-4b5c-8d1f-e7c7bd2b0f57\",\"type\":\"ToolEvents\"},\"tools\":[{\"id\":\"d827ea38-49c1-4020-8886-57697527c491\",\"type\":\"PanTool\"},{\"id\":\"7886b213-7570-4872-9937-3f63f9ad3275\",\"type\":\"WheelZoomTool\"},{\"id\":\"fbbe8889-9dc6-415c-9bf2-d288380af6cd\",\"type\":\"BoxZoomTool\"},{\"id\":\"4ad6865f-c7fc-4e56-b772-39d279dff440\",\"type\":\"PreviewSaveTool\"},{\"id\":\"e5415c79-6aa0-4425-bbd6-a9db06862eec\",\"type\":\"ResizeTool\"},{\"id\":\"3e3e0081-1d45-41be-a86d-aa7bf04f18e0\",\"type\":\"ResetTool\"},{\"id\":\"7653df43-3643-4e02-8fad-c3ab649cee48\",\"type\":\"HelpTool\"}],\"x_range\":{\"id\":\"f79403eb-a6c7-4537-a6a5-96832eb1a9b7\",\"type\":\"DataRange1d\"},\"y_range\":{\"id\":\"45c2e262-f8d1-4754-a1f7-109b804f0bcf\",\"type\":\"DataRange1d\"}},\"id\":\"c7cccedc-b80e-4c30-b0ff-8aebcddd147e\",\"subtype\":\"Figure\",\"type\":\"Plot\"},{\"attributes\":{},\"id\":\"336b468e-685c-4618-ae4b-3a6df7debee7\",\"type\":\"BasicTickFormatter\"},{\"attributes\":{\"plot\":{\"id\":\"c7cccedc-b80e-4c30-b0ff-8aebcddd147e\",\"subtype\":\"Figure\",\"type\":\"Plot\"},\"ticker\":{\"id\":\"3a4474cb-5551-46c7-928b-ada7ef00bf9b\",\"type\":\"BasicTicker\"}},\"id\":\"4e22d846-d486-44c7-bf8d-1d25763d4c37\",\"type\":\"Grid\"},{\"attributes\":{\"plot\":{\"id\":\"c7cccedc-b80e-4c30-b0ff-8aebcddd147e\",\"subtype\":\"Figure\",\"type\":\"Plot\"}},\"id\":\"7653df43-3643-4e02-8fad-c3ab649cee48\",\"type\":\"HelpTool\"},{\"attributes\":{},\"id\":\"3f3c1875-c873-4d94-99b0-9411e782b24c\",\"type\":\"BasicTickFormatter\"}],\"root_ids\":[\"c7cccedc-b80e-4c30-b0ff-8aebcddd147e\"]},\"title\":\"Bokeh Application\",\"version\":\"0.11.1\"}};\n",
       "            var render_items = [{\"docid\":\"14541121-d9ff-4606-b814-fa2a2ded535d\",\"elementid\":\"66cf5b17-82ea-405c-8227-5c58ce7c1994\",\"modelid\":\"c7cccedc-b80e-4c30-b0ff-8aebcddd147e\",\"notebook_comms_target\":\"50580df0-c1c3-4a3d-b4dd-9bf513af73ad\"}];\n",
       "            \n",
       "            Bokeh.embed.embed_items(docs_json, render_items);\n",
       "        });\n",
       "      },\n",
       "      function(Bokeh) {\n",
       "      }\n",
       "    ];\n",
       "  \n",
       "    function run_inline_js() {\n",
       "      for (var i = 0; i < inline_js.length; i++) {\n",
       "        inline_js[i](window.Bokeh);\n",
       "      }\n",
       "    }\n",
       "  \n",
       "    if (window._bokeh_is_loading === 0) {\n",
       "      console.log(\"Bokeh: BokehJS loaded, going straight to plotting\");\n",
       "      run_inline_js();\n",
       "    } else {\n",
       "      load_libs(js_urls, function() {\n",
       "        console.log(\"Bokeh: BokehJS plotting callback run at\", now());\n",
       "        run_inline_js();\n",
       "      });\n",
       "    }\n",
       "  }(this));\n",
       "</script>"
      ]
     },
     "metadata": {},
     "output_type": "display_data"
    }
   ],
   "source": [
    "fig = bokeh.plotting.figure(width=800, height=450)\n",
    "fig.scatter(data['T'], data['C'], size=10)\n",
    "fig.line(x, y, color='green')\n",
    "fig.xaxis.axis_label = \"T\"\n",
    "fig.yaxis.axis_label = \"C\"\n",
    "bokeh.io.show(fig);"
   ]
  }
 ],
 "metadata": {
  "kernelspec": {
   "display_name": "Python 3",
   "language": "python",
   "name": "python3"
  },
  "language_info": {
   "codemirror_mode": {
    "name": "ipython",
    "version": 3
   },
   "file_extension": ".py",
   "mimetype": "text/x-python",
   "name": "python",
   "nbconvert_exporter": "python",
   "pygments_lexer": "ipython3",
   "version": "3.5.2"
  }
 },
 "nbformat": 4,
 "nbformat_minor": 2
}
