{
 "cells": [
  {
   "cell_type": "markdown",
   "metadata": {
    "deletable": true,
    "editable": true
   },
   "source": [
    "# Fišerův problém"
   ]
  },
  {
   "cell_type": "markdown",
   "metadata": {
    "deletable": true,
    "editable": true
   },
   "source": [
    "## Úvod"
   ]
  },
  {
   "cell_type": "markdown",
   "metadata": {
    "deletable": true,
    "editable": true
   },
   "source": [
    "V tomto praktiku si předvedeme určení neznámé veličiny $C(T)$ definované jako součin $$C(T) = A(T) \\, B(T),$$ přičemž veličiny $A(T)$, $B(T)$ jsme určili měřením. Určíme zároveň směrnici závislosti veličiny $C$ na $T$."
   ]
  },
  {
   "cell_type": "markdown",
   "metadata": {
    "deletable": true,
    "editable": true
   },
   "source": [
    "## Měření"
   ]
  },
  {
   "cell_type": "markdown",
   "metadata": {
    "deletable": true,
    "editable": true
   },
   "source": [
    "jsme si velice šikovně zapsali do souboru, jako tzv. \"comma separated value\" (CSV) format už v průběhu měření do souboru ``data.txt``:"
   ]
  },
  {
   "cell_type": "code",
   "execution_count": 1,
   "metadata": {
    "collapsed": false,
    "deletable": true,
    "editable": true
   },
   "outputs": [
    {
     "name": "stdout",
     "output_type": "stream",
     "text": [
      "\u001b[0m\u001b[01;32mconvert_to_pdf.sh\u001b[0m*    praktikum.ipynb       praktikum_pdf.tex\r\n",
      "data.csv              \u001b[01;34mpraktikum_pdf_files\u001b[0m/  README.rst\r\n",
      "praktikum_html.html   praktikum_pdf.ipynb   revtex_nocode.tplx\r\n",
      "praktikum_html.ipynb  praktikum_pdf.pdf\r\n"
     ]
    }
   ],
   "source": [
    "ls"
   ]
  },
  {
   "cell_type": "code",
   "execution_count": 2,
   "metadata": {
    "collapsed": false,
    "deletable": true,
    "editable": true
   },
   "outputs": [
    {
     "name": "stdout",
     "output_type": "stream",
     "text": [
      "T,A,B\r\n",
      "15.0,0.1734,459.0\r\n",
      "16.0,0.1782,450.0\r\n",
      "17.0,0.1831,441.0\r\n",
      "18.0,0.1880,435.0\r\n",
      "19.0,0.1928,427.0\r\n",
      "20.0,0.1976,419.0\r\n",
      "21.0,0.2024,411.0\r\n"
     ]
    }
   ],
   "source": [
    "!cat data.csv"
   ]
  },
  {
   "cell_type": "markdown",
   "metadata": {
    "deletable": true,
    "editable": true
   },
   "source": [
    "Data načteme pomocí funkce ``read_csv`` z balíku ``pandas``. ``Pandas`` je třeba nejprve naimportovat:"
   ]
  },
  {
   "cell_type": "code",
   "execution_count": 3,
   "metadata": {
    "collapsed": true,
    "deletable": true,
    "editable": true
   },
   "outputs": [],
   "source": [
    "import pandas"
   ]
  },
  {
   "cell_type": "code",
   "execution_count": 4,
   "metadata": {
    "collapsed": false,
    "deletable": true,
    "editable": true
   },
   "outputs": [],
   "source": [
    "pandas.read_csv?"
   ]
  },
  {
   "cell_type": "code",
   "execution_count": 5,
   "metadata": {
    "collapsed": false,
    "deletable": true,
    "editable": true
   },
   "outputs": [],
   "source": [
    "data = pandas.read_csv('data.csv')"
   ]
  },
  {
   "cell_type": "markdown",
   "metadata": {
    "deletable": true,
    "editable": true
   },
   "source": [
    "Vznikla proměnná ``data`` představuje tzv. ``DataFrame``. ``DataFrame`` si lze představit jako tabulku, jeho vizualizace je v jupyter notebooku velice jednoduchá"
   ]
  },
  {
   "cell_type": "code",
   "execution_count": 6,
   "metadata": {
    "collapsed": false,
    "deletable": true,
    "editable": true
   },
   "outputs": [
    {
     "data": {
      "text/html": [
       "<div>\n",
       "<table border=\"1\" class=\"dataframe\">\n",
       "  <thead>\n",
       "    <tr style=\"text-align: right;\">\n",
       "      <th></th>\n",
       "      <th>T</th>\n",
       "      <th>A</th>\n",
       "      <th>B</th>\n",
       "    </tr>\n",
       "  </thead>\n",
       "  <tbody>\n",
       "    <tr>\n",
       "      <th>0</th>\n",
       "      <td>15.0</td>\n",
       "      <td>0.1734</td>\n",
       "      <td>459.0</td>\n",
       "    </tr>\n",
       "    <tr>\n",
       "      <th>1</th>\n",
       "      <td>16.0</td>\n",
       "      <td>0.1782</td>\n",
       "      <td>450.0</td>\n",
       "    </tr>\n",
       "    <tr>\n",
       "      <th>2</th>\n",
       "      <td>17.0</td>\n",
       "      <td>0.1831</td>\n",
       "      <td>441.0</td>\n",
       "    </tr>\n",
       "    <tr>\n",
       "      <th>3</th>\n",
       "      <td>18.0</td>\n",
       "      <td>0.1880</td>\n",
       "      <td>435.0</td>\n",
       "    </tr>\n",
       "    <tr>\n",
       "      <th>4</th>\n",
       "      <td>19.0</td>\n",
       "      <td>0.1928</td>\n",
       "      <td>427.0</td>\n",
       "    </tr>\n",
       "    <tr>\n",
       "      <th>5</th>\n",
       "      <td>20.0</td>\n",
       "      <td>0.1976</td>\n",
       "      <td>419.0</td>\n",
       "    </tr>\n",
       "    <tr>\n",
       "      <th>6</th>\n",
       "      <td>21.0</td>\n",
       "      <td>0.2024</td>\n",
       "      <td>411.0</td>\n",
       "    </tr>\n",
       "  </tbody>\n",
       "</table>\n",
       "</div>"
      ],
      "text/plain": [
       "      T       A      B\n",
       "0  15.0  0.1734  459.0\n",
       "1  16.0  0.1782  450.0\n",
       "2  17.0  0.1831  441.0\n",
       "3  18.0  0.1880  435.0\n",
       "4  19.0  0.1928  427.0\n",
       "5  20.0  0.1976  419.0\n",
       "6  21.0  0.2024  411.0"
      ]
     },
     "execution_count": 6,
     "metadata": {},
     "output_type": "execute_result"
    }
   ],
   "source": [
    "data"
   ]
  },
  {
   "cell_type": "markdown",
   "metadata": {
    "deletable": true,
    "editable": true
   },
   "source": [
    "Dopočítáme veličinu $C$:"
   ]
  },
  {
   "cell_type": "code",
   "execution_count": 7,
   "metadata": {
    "collapsed": true,
    "deletable": true,
    "editable": true
   },
   "outputs": [],
   "source": [
    "data['C'] = data['A'] * data['B']"
   ]
  },
  {
   "cell_type": "code",
   "execution_count": 8,
   "metadata": {
    "collapsed": false,
    "deletable": true,
    "editable": true
   },
   "outputs": [
    {
     "data": {
      "text/html": [
       "<div>\n",
       "<table border=\"1\" class=\"dataframe\">\n",
       "  <thead>\n",
       "    <tr style=\"text-align: right;\">\n",
       "      <th></th>\n",
       "      <th>T</th>\n",
       "      <th>A</th>\n",
       "      <th>B</th>\n",
       "      <th>C</th>\n",
       "    </tr>\n",
       "  </thead>\n",
       "  <tbody>\n",
       "    <tr>\n",
       "      <th>0</th>\n",
       "      <td>15.0</td>\n",
       "      <td>0.1734</td>\n",
       "      <td>459.0</td>\n",
       "      <td>79.5906</td>\n",
       "    </tr>\n",
       "    <tr>\n",
       "      <th>1</th>\n",
       "      <td>16.0</td>\n",
       "      <td>0.1782</td>\n",
       "      <td>450.0</td>\n",
       "      <td>80.1900</td>\n",
       "    </tr>\n",
       "    <tr>\n",
       "      <th>2</th>\n",
       "      <td>17.0</td>\n",
       "      <td>0.1831</td>\n",
       "      <td>441.0</td>\n",
       "      <td>80.7471</td>\n",
       "    </tr>\n",
       "    <tr>\n",
       "      <th>3</th>\n",
       "      <td>18.0</td>\n",
       "      <td>0.1880</td>\n",
       "      <td>435.0</td>\n",
       "      <td>81.7800</td>\n",
       "    </tr>\n",
       "    <tr>\n",
       "      <th>4</th>\n",
       "      <td>19.0</td>\n",
       "      <td>0.1928</td>\n",
       "      <td>427.0</td>\n",
       "      <td>82.3256</td>\n",
       "    </tr>\n",
       "    <tr>\n",
       "      <th>5</th>\n",
       "      <td>20.0</td>\n",
       "      <td>0.1976</td>\n",
       "      <td>419.0</td>\n",
       "      <td>82.7944</td>\n",
       "    </tr>\n",
       "    <tr>\n",
       "      <th>6</th>\n",
       "      <td>21.0</td>\n",
       "      <td>0.2024</td>\n",
       "      <td>411.0</td>\n",
       "      <td>83.1864</td>\n",
       "    </tr>\n",
       "  </tbody>\n",
       "</table>\n",
       "</div>"
      ],
      "text/plain": [
       "      T       A      B        C\n",
       "0  15.0  0.1734  459.0  79.5906\n",
       "1  16.0  0.1782  450.0  80.1900\n",
       "2  17.0  0.1831  441.0  80.7471\n",
       "3  18.0  0.1880  435.0  81.7800\n",
       "4  19.0  0.1928  427.0  82.3256\n",
       "5  20.0  0.1976  419.0  82.7944\n",
       "6  21.0  0.2024  411.0  83.1864"
      ]
     },
     "execution_count": 8,
     "metadata": {},
     "output_type": "execute_result"
    }
   ],
   "source": [
    "data"
   ]
  },
  {
   "cell_type": "markdown",
   "metadata": {
    "deletable": true,
    "editable": true
   },
   "source": [
    "Základní grafická vizualizace dat je také velice jednoduchá:"
   ]
  },
  {
   "cell_type": "code",
   "execution_count": 9,
   "metadata": {
    "collapsed": false,
    "deletable": true,
    "editable": true
   },
   "outputs": [],
   "source": [
    "import matplotlib.pyplot\n",
    "%matplotlib inline"
   ]
  },
  {
   "cell_type": "code",
   "execution_count": 10,
   "metadata": {
    "collapsed": false,
    "deletable": true,
    "editable": true
   },
   "outputs": [
    {
     "data": {
      "text/plain": [
       "[<matplotlib.lines.Line2D at 0x7fcc1f59c358>]"
      ]
     },
     "execution_count": 10,
     "metadata": {},
     "output_type": "execute_result"
    },
    {
     "data": {
      "image/png": "[encoded data removed]",
      "text/plain": [
       "<matplotlib.figure.Figure at 0x7fcc4fa43f60>"
      ]
     },
     "metadata": {},
     "output_type": "display_data"
    }
   ],
   "source": [
    "matplotlib.pyplot.plot(data['T'], data['C'], 'o')"
   ]
  },
  {
   "cell_type": "markdown",
   "metadata": {
    "deletable": true,
    "editable": true
   },
   "source": [
    "Fitování naměřené zavislosti přímkou je lehce náročnější:"
   ]
  },
  {
   "cell_type": "code",
   "execution_count": 11,
   "metadata": {
    "collapsed": false,
    "deletable": true,
    "editable": true
   },
   "outputs": [],
   "source": [
    "import scipy.optimize\n",
    "\n",
    "def f(x, C0, C1):\n",
    "    return C0 * x + C1\n",
    "\n",
    "popt, pcov = scipy.optimize.curve_fit(f, data['T'], data['C'])"
   ]
  },
  {
   "cell_type": "code",
   "execution_count": 12,
   "metadata": {
    "collapsed": false,
    "deletable": true,
    "editable": true
   },
   "outputs": [],
   "source": [
    "scipy.optimize.curve_fit?"
   ]
  },
  {
   "cell_type": "markdown",
   "metadata": {
    "deletable": true,
    "editable": true
   },
   "source": [
    "Parametry $C_0$ a $C_1$ jsou v poli ``popt``:"
   ]
  },
  {
   "cell_type": "code",
   "execution_count": 13,
   "metadata": {
    "collapsed": false,
    "deletable": true,
    "editable": true
   },
   "outputs": [
    {
     "name": "stdout",
     "output_type": "stream",
     "text": [
      "[  0.62766786  70.21827857]\n"
     ]
    }
   ],
   "source": [
    "print(popt)"
   ]
  },
  {
   "cell_type": "markdown",
   "metadata": {
    "deletable": true,
    "editable": true
   },
   "source": [
    "Kovarianční matice:"
   ]
  },
  {
   "cell_type": "code",
   "execution_count": 14,
   "metadata": {
    "collapsed": false,
    "deletable": true,
    "editable": true
   },
   "outputs": [
    {
     "name": "stdout",
     "output_type": "stream",
     "text": [
      "[[ 0.00125189 -0.02253399]\n",
      " [-0.02253399  0.41061944]]\n"
     ]
    }
   ],
   "source": [
    "print(pcov) # vypocet statistickych chyb pozdeji"
   ]
  },
  {
   "cell_type": "markdown",
   "metadata": {
    "deletable": true,
    "editable": true
   },
   "source": [
    "Konečně vyneseme závislost do grafu i s fitem:"
   ]
  },
  {
   "cell_type": "code",
   "execution_count": 15,
   "metadata": {
    "collapsed": false,
    "deletable": true,
    "editable": true
   },
   "outputs": [
    {
     "data": {
      "text/plain": [
       "[<matplotlib.lines.Line2D at 0x7fcc19b3a048>]"
      ]
     },
     "execution_count": 15,
     "metadata": {},
     "output_type": "execute_result"
    },
    {
     "data": {
      "image/png": "[encoded data removed]",
      "text/plain": [
       "<matplotlib.figure.Figure at 0x7fcc19f7d128>"
      ]
     },
     "metadata": {},
     "output_type": "display_data"
    }
   ],
   "source": [
    "matplotlib.pyplot.plot(data['T'], data['C'], 'o')\n",
    "y = f(data['T'], popt[0], popt[1]) # y = C0 * x + C1\n",
    "matplotlib.pyplot.plot(data['T'], y)"
   ]
  },
  {
   "cell_type": "markdown",
   "metadata": {
    "deletable": true,
    "editable": true
   },
   "source": [
    "O něco hezčí grafy lze vytvořit s \"trochou\" námahy:"
   ]
  },
  {
   "cell_type": "code",
   "execution_count": 16,
   "metadata": {
    "collapsed": false,
    "deletable": true,
    "editable": true
   },
   "outputs": [],
   "source": [
    "matplotlib.pyplot.rcParams['figure.autolayout'] = False\n",
    "matplotlib.pyplot.rcParams['figure.figsize'] = 12, 7\n",
    "matplotlib.pyplot.rcParams['axes.labelsize'] = 25\n",
    "matplotlib.pyplot.rcParams['axes.titlesize'] = 25\n",
    "matplotlib.pyplot.rcParams['font.size'] = 25\n",
    "matplotlib.pyplot.rcParams['lines.linewidth'] = 2.0\n",
    "matplotlib.pyplot.rcParams['lines.markersize'] = 12\n",
    "matplotlib.pyplot.rcParams['legend.fontsize'] = 25\n",
    "matplotlib.pyplot.rcParams['text.usetex'] = True\n",
    "matplotlib.pyplot.rcParams['text.latex.unicode'] = True\n",
    "matplotlib.pyplot.rcParams['font.family'] = \"serif\"\n",
    "matplotlib.pyplot.rcParams['font.serif'] = \"cm\"\n",
    "matplotlib.pyplot.rcParams['xtick.major.pad'] = 10.0\n",
    "matplotlib.pyplot.rcParams['ytick.major.pad'] = 10.0\n",
    "matplotlib.pyplot.rcParams['text.latex.preamble'] = r\"\\usepackage{subdepth}, \\usepackage{type1cm} \""
   ]
  },
  {
   "cell_type": "code",
   "execution_count": 17,
   "metadata": {
    "collapsed": false,
    "deletable": true,
    "editable": true
   },
   "outputs": [
    {
     "data": {
      "text/plain": [
       "<matplotlib.text.Text at 0x7fcc19a8fe80>"
      ]
     },
     "execution_count": 17,
     "metadata": {},
     "output_type": "execute_result"
    },
    {
     "data": {
      "image/png": "[encoded data removed]",
      "text/plain": [
       "<matplotlib.figure.Figure at 0x7fcc1f4e2f98>"
      ]
     },
     "metadata": {},
     "output_type": "display_data"
    }
   ],
   "source": [
    "matplotlib.pyplot.plot(data['T'], data['C'], 'o', label='data')\n",
    "y = f(data['T'], popt[0], popt[1]) # y = C0 * x + C1\n",
    "matplotlib.pyplot.plot(data['T'], y, label=r'$y = C_0 \\, x + C_1$')\n",
    "matplotlib.pyplot.legend(loc='best')\n",
    "matplotlib.pyplot.xlim([14.5, 21.5])\n",
    "matplotlib.pyplot.xlabel(r\"$T$\")\n",
    "matplotlib.pyplot.ylabel(r\"$C(T)$\")\n",
    "matplotlib.pyplot.title(\"Fišerův problém vyřešen!\")"
   ]
  },
  {
   "cell_type": "code",
   "execution_count": null,
   "metadata": {
    "collapsed": true,
    "deletable": true,
    "editable": true
   },
   "outputs": [],
   "source": []
  }
 ],
 "metadata": {
  "kernelspec": {
   "display_name": "Python 3",
   "language": "python",
   "name": "python3"
  },
  "language_info": {
   "codemirror_mode": {
    "name": "ipython",
    "version": 3
   },
   "file_extension": ".py",
   "mimetype": "text/x-python",
   "name": "python",
   "nbconvert_exporter": "python",
   "pygments_lexer": "ipython3",
   "version": "3.4.3+"
  }
 },
 "nbformat": 4,
 "nbformat_minor": 2
}
