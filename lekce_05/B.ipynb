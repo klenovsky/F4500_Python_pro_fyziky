{
 "cells": [
  {
   "cell_type": "code",
   "execution_count": 1,
   "metadata": {
    "collapsed": true,
    "deletable": true,
    "editable": true
   },
   "outputs": [],
   "source": [
    "def B(t, r):\n",
    "    \"\"\"Returns magnetic field of a current loop in point r = (r1, r2, r3) and time t\n",
    "    The expressions for the magnatic field of the current loop are taken from \n",
    "    [J. Simpson et al. Simple Analytic Expressions for the Magnetic Field of a Circular Current Loop. \n",
    "    Transactions on Magnetics (2001)]\n",
    "    \n",
    "    Arguments:\n",
    "        r -- vector of position\n",
    "        t -- time\n",
    "        \n",
    "    Returns:\n",
    "        B -- vector of magnetic field components\n",
    "    \"\"\"\n",
    "    x,y,z = r\n",
    "    \n",
    "    a = 0.03 # diameter of the solenoid in meters\n",
    "    mu0 = 4*np.pi*1e-7 # vacuum permeability\n",
    "    I = 10 # current in Amps\n",
    "    #D = 0.1 # distance of two current loops\n",
    "    C = mu0 * I / np.pi\n",
    "    \n",
    "    rho2 = np.power(x,2) + np.power(y,2)\n",
    "    rho = np.sqrt(rho2)\n",
    "    r2 = np.power(x,2) + np.power(y,2) + np.power(z,2)\n",
    "    a2 = np.power(a, 2)\n",
    "    alpha2 = a2 + r2 - 2*a*rho\n",
    "    beta2 = a2 + r2 + 2*a*rho\n",
    "    beta = np.sqrt(beta2)\n",
    "    k2 = 1 - alpha2/beta2\n",
    "    \n",
    "    #print(ellipk(k2))\n",
    "    #print(2 * alpha2 * beta * rho2)\n",
    "    \n",
    "    Bx = (C * x * z) / (2 * alpha2 * beta * rho2) * ( (a2 + r2) * ellipe(k2) - alpha2 * ellipk(k2) )\n",
    "    By = Bx * y / x\n",
    "    Bz = C / ( 2 * alpha2 * beta ) * ( (a2 - r2) * ellipe(k2) + alpha2 * ellipk(k2) )\n",
    "    \n",
    "    # Function diverges if x = y = 0, in which case we fix it.\n",
    "    if x == 0 or y == 0:\n",
    "        Bx, By = (0, 0)\n",
    "    \n",
    "    return (Bx, By, Bz)"
   ]
  },
  {
   "cell_type": "code",
   "execution_count": null,
   "metadata": {
    "collapsed": true,
    "deletable": true,
    "editable": true
   },
   "outputs": [],
   "source": []
  }
 ],
 "metadata": {
  "kernelspec": {
   "display_name": "Python 3",
   "language": "python",
   "name": "python3"
  },
  "language_info": {
   "codemirror_mode": {
    "name": "ipython",
    "version": 3
   },
   "file_extension": ".py",
   "mimetype": "text/x-python",
   "name": "python",
   "nbconvert_exporter": "python",
   "pygments_lexer": "ipython3",
   "version": "3.5.2"
  }
 },
 "nbformat": 4,
 "nbformat_minor": 0
}
