{
 "cells": [
  {
   "cell_type": "markdown",
   "metadata": {
    "deletable": true,
    "editable": true
   },
   "source": [
    "<h1>Linearni algebra</h1>\n",
    "\n",
    "<p\n",
    "Python je efektivni, ucinny a relativne snadny nastroj na provadeni rozlicnych algebraickych operaci. Klicovym objektem v numericke knihovne numpy je numpy.array, coz je generalizovana matice. \n",
    "</p>\n",
    "\n",
    "``<i>It is not knowledge, but the act of learning, not possession but the act of getting there, which grants the the greatest enjoyment.</i>\" \n",
    "\n",
    "                                                                                 Carl Friedrich Gauss\n",
    "\n",
    "<h2>Definice matice</h2>\n",
    "<p>\n",
    "Definujme si nejprve nejakou obecnou realnou matici $\\pmb{A}$ s prvky z $\\mathbb{R}$\n",
    "</p>"
   ]
  },
  {
   "cell_type": "code",
   "execution_count": 1,
   "metadata": {
    "collapsed": false,
    "deletable": true,
    "editable": true
   },
   "outputs": [
    {
     "data": {
      "text/plain": [
       "array([[ 3., -5.,  8.],\n",
       "       [-1.,  2.,  3.],\n",
       "       [-5., -6.,  2.]])"
      ]
     },
     "execution_count": 1,
     "metadata": {},
     "output_type": "execute_result"
    }
   ],
   "source": [
    "import numpy as np\n",
    "\n",
    "A = np.array([[3,-5,8],\n",
    "             [-1,2,3],\n",
    "             [-5,-6,2]], dtype=np.float64)\n",
    "\n",
    "A"
   ]
  },
  {
   "cell_type": "markdown",
   "metadata": {
    "deletable": true,
    "editable": true
   },
   "source": [
    "Vsimnete si, ze si definuji i datovy typ promennych v matici (np.float64) viz"
   ]
  },
  {
   "cell_type": "code",
   "execution_count": 2,
   "metadata": {
    "collapsed": false,
    "deletable": true,
    "editable": true
   },
   "outputs": [
    {
     "data": {
      "text/plain": [
       "dtype('float64')"
      ]
     },
     "execution_count": 2,
     "metadata": {},
     "output_type": "execute_result"
    }
   ],
   "source": [
    "A.dtype"
   ]
  },
  {
   "cell_type": "markdown",
   "metadata": {
    "deletable": true,
    "editable": true
   },
   "source": [
    "Duvodem je \"programovaci hygiena\" a snaha, aby si python nevylozil datovy typ promenne jinak, nez bychom zrovna chteli. Srovnejte napr. s timto"
   ]
  },
  {
   "cell_type": "code",
   "execution_count": 3,
   "metadata": {
    "collapsed": false,
    "deletable": true,
    "editable": true
   },
   "outputs": [
    {
     "data": {
      "text/plain": [
       "array([['3', '-5', '8'],\n",
       "       ['-1', '2', 'co?'],\n",
       "       ['-5', '-6', '2']], \n",
       "      dtype='<U21')"
      ]
     },
     "execution_count": 3,
     "metadata": {},
     "output_type": "execute_result"
    }
   ],
   "source": [
    "divne = np.array([[3,-5,8],\n",
    "             [-1,2,'co?'],\n",
    "             [-5,-6,2]])\n",
    "divne"
   ]
  },
  {
   "cell_type": "markdown",
   "metadata": {
    "deletable": true,
    "editable": true
   },
   "source": [
    "Vratme se k matici $\\pmb{A}$ podivejme se, co objekt nabizi. Nejprve jeho rozmery"
   ]
  },
  {
   "cell_type": "code",
   "execution_count": 4,
   "metadata": {
    "collapsed": false,
    "deletable": true,
    "editable": true
   },
   "outputs": [
    {
     "data": {
      "text/plain": [
       "(3, 3)"
      ]
     },
     "execution_count": 4,
     "metadata": {},
     "output_type": "execute_result"
    }
   ],
   "source": [
    "np.shape(A)"
   ]
  },
  {
   "cell_type": "markdown",
   "metadata": {
    "deletable": true,
    "editable": true
   },
   "source": [
    "a celkovy pocet jejich prvku"
   ]
  },
  {
   "cell_type": "code",
   "execution_count": 5,
   "metadata": {
    "collapsed": false,
    "deletable": true,
    "editable": true,
    "scrolled": true
   },
   "outputs": [
    {
     "data": {
      "text/plain": [
       "9"
      ]
     },
     "execution_count": 5,
     "metadata": {},
     "output_type": "execute_result"
    }
   ],
   "source": [
    "np.size(A)"
   ]
  },
  {
   "cell_type": "markdown",
   "metadata": {
    "deletable": true,
    "editable": true
   },
   "source": [
    "Pristup k jednotlivym prvkum matice je pak"
   ]
  },
  {
   "cell_type": "code",
   "execution_count": 6,
   "metadata": {
    "collapsed": false,
    "deletable": true,
    "editable": true
   },
   "outputs": [
    {
     "name": "stdout",
     "output_type": "stream",
     "text": [
      "-5.0\n",
      "-1.0\n"
     ]
    }
   ],
   "source": [
    "print(A[0, 1])\n",
    "print(A[1, 0])"
   ]
  },
  {
   "cell_type": "markdown",
   "metadata": {
    "deletable": true,
    "editable": true
   },
   "source": [
    "Radky matice $\\pmb{A}$ zase ziskame jako\n",
    "\n",
    "<!--\n",
    "<p>\n",
    "<b>\n",
    "Tady bych zvazil zapis print('A[0,:]', A[0,:]).\n",
    "</b>\n",
    "</p>\n",
    "-->"
   ]
  },
  {
   "cell_type": "code",
   "execution_count": 7,
   "metadata": {
    "collapsed": false,
    "deletable": true,
    "editable": true
   },
   "outputs": [
    {
     "name": "stdout",
     "output_type": "stream",
     "text": [
      "A[0] [ 3. -5.  8.] [ 3. -5.  8.]\n",
      "A[1] [-1.  2.  3.]\n",
      "A[2] [-5. -6.  2.]\n"
     ]
    }
   ],
   "source": [
    "print('A[0]', A[0], A[0, :])\n",
    "print('A[1]', A[1])\n",
    "print('A[2]', A[2])"
   ]
  },
  {
   "cell_type": "markdown",
   "metadata": {
    "deletable": true,
    "editable": true
   },
   "source": [
    "Zajimat by nas dale mohla treba stopa matice $\\text{Tr}(\\pmb{A})$"
   ]
  },
  {
   "cell_type": "code",
   "execution_count": 8,
   "metadata": {
    "collapsed": false,
    "deletable": true,
    "editable": true
   },
   "outputs": [
    {
     "data": {
      "text/plain": [
       "7.0"
      ]
     },
     "execution_count": 8,
     "metadata": {},
     "output_type": "execute_result"
    }
   ],
   "source": [
    "np.trace(A)"
   ]
  },
  {
   "cell_type": "code",
   "execution_count": 9,
   "metadata": {
    "collapsed": false,
    "deletable": true,
    "editable": true
   },
   "outputs": [],
   "source": [
    "np.trace?"
   ]
  },
  {
   "cell_type": "markdown",
   "metadata": {
    "deletable": true,
    "editable": true
   },
   "source": [
    "ci stopa po libovolne jine vedlejsi diagonaly"
   ]
  },
  {
   "cell_type": "code",
   "execution_count": 10,
   "metadata": {
    "collapsed": false,
    "deletable": true,
    "editable": true
   },
   "outputs": [
    {
     "data": {
      "text/plain": [
       "7.0"
      ]
     },
     "execution_count": 10,
     "metadata": {},
     "output_type": "execute_result"
    }
   ],
   "source": [
    "np.trace(A, 0)"
   ]
  },
  {
   "cell_type": "markdown",
   "metadata": {
    "deletable": true,
    "editable": true
   },
   "source": [
    "Diagonaly se pocitaji od hlavni, ktera ma oznaceni 0"
   ]
  },
  {
   "cell_type": "code",
   "execution_count": 11,
   "metadata": {
    "collapsed": false,
    "deletable": true,
    "editable": true
   },
   "outputs": [
    {
     "name": "stdout",
     "output_type": "stream",
     "text": [
      "7.0\n",
      "True\n"
     ]
    }
   ],
   "source": [
    "print(np.trace(A, 0))\n",
    "print(np.trace(A, 0)==np.trace(A))"
   ]
  },
  {
   "cell_type": "markdown",
   "metadata": {
    "deletable": true,
    "editable": true
   },
   "source": [
    "Stopu pod diagonalou ziskame jako"
   ]
  },
  {
   "cell_type": "code",
   "execution_count": 12,
   "metadata": {
    "collapsed": false,
    "deletable": true,
    "editable": true
   },
   "outputs": [
    {
     "data": {
      "text/plain": [
       "-7.0"
      ]
     },
     "execution_count": 12,
     "metadata": {},
     "output_type": "execute_result"
    }
   ],
   "source": [
    "np.trace(A, -1)"
   ]
  },
  {
   "cell_type": "markdown",
   "metadata": {
    "collapsed": true,
    "deletable": true,
    "editable": true
   },
   "source": [
    "hodnoty mimo matici se vrati jako 0.0"
   ]
  },
  {
   "cell_type": "code",
   "execution_count": 13,
   "metadata": {
    "collapsed": false,
    "deletable": true,
    "editable": true
   },
   "outputs": [
    {
     "name": "stdout",
     "output_type": "stream",
     "text": [
      "0.0\n",
      "0.0\n"
     ]
    }
   ],
   "source": [
    "print(np.trace(A, 3))\n",
    "\n",
    "print(np.trace(A, -4))"
   ]
  },
  {
   "cell_type": "markdown",
   "metadata": {
    "deletable": true,
    "editable": true
   },
   "source": [
    "Podobne lze extrahovat primo jednotlive diagonaly"
   ]
  },
  {
   "cell_type": "code",
   "execution_count": 14,
   "metadata": {
    "collapsed": false,
    "deletable": true,
    "editable": true
   },
   "outputs": [
    {
     "name": "stdout",
     "output_type": "stream",
     "text": [
      "[ 3.  2.  2.]\n",
      "[-1. -6.]\n",
      "[-5.]\n",
      "[]\n"
     ]
    }
   ],
   "source": [
    "print(np.diag(A))\n",
    "print(np.diag(A, -1))\n",
    "print(np.diag(A, -2))\n",
    "print(np.diag(A, -3))"
   ]
  },
  {
   "cell_type": "markdown",
   "metadata": {
    "deletable": true,
    "editable": true
   },
   "source": [
    "Dale lze snadno provest transpozici matice $\\pmb{A}^T$ jako"
   ]
  },
  {
   "cell_type": "code",
   "execution_count": 15,
   "metadata": {
    "collapsed": false,
    "deletable": true,
    "editable": true
   },
   "outputs": [
    {
     "data": {
      "text/plain": [
       "array([[ 3., -1., -5.],\n",
       "       [-5.,  2., -6.],\n",
       "       [ 8.,  3.,  2.]])"
      ]
     },
     "execution_count": 15,
     "metadata": {},
     "output_type": "execute_result"
    }
   ],
   "source": [
    "np.transpose(A)"
   ]
  },
  {
   "cell_type": "markdown",
   "metadata": {
    "deletable": true,
    "editable": true
   },
   "source": [
    "nebo jeste uspornejsim zapisem"
   ]
  },
  {
   "cell_type": "code",
   "execution_count": 16,
   "metadata": {
    "collapsed": false,
    "deletable": true,
    "editable": true
   },
   "outputs": [
    {
     "data": {
      "text/plain": [
       "array([[ 3., -1., -5.],\n",
       "       [-5.,  2., -6.],\n",
       "       [ 8.,  3.,  2.]])"
      ]
     },
     "execution_count": 16,
     "metadata": {},
     "output_type": "execute_result"
    }
   ],
   "source": [
    "A.T"
   ]
  },
  {
   "cell_type": "markdown",
   "metadata": {
    "deletable": true,
    "editable": true
   },
   "source": [
    "<h2>Operace s maticemi</h2>\n",
    "\n",
    "Prejdeme nyni k maticovym operacim, ktere jsou soucasti balicku numpy.linalg. Zacneme inverzi matice $\\pmb{A}^{-1}$"
   ]
  },
  {
   "cell_type": "code",
   "execution_count": 17,
   "metadata": {
    "collapsed": false,
    "deletable": true,
    "editable": true,
    "scrolled": true
   },
   "outputs": [
    {
     "data": {
      "text/plain": [
       "array([[ 0.08494208, -0.14671815, -0.11969112],\n",
       "       [-0.05019305,  0.17760618, -0.06563707],\n",
       "       [ 0.06177606,  0.16602317,  0.003861  ]])"
      ]
     },
     "execution_count": 17,
     "metadata": {},
     "output_type": "execute_result"
    }
   ],
   "source": [
    "np.linalg.inv(A)"
   ]
  },
  {
   "cell_type": "markdown",
   "metadata": {
    "deletable": true,
    "editable": true
   },
   "source": [
    "nebo nalezenim jejich vlastnich hodnot a vlastnich vektoru $\\pmb{A} \\pmb{v} = \\lambda \\pmb{v}$"
   ]
  },
  {
   "cell_type": "code",
   "execution_count": 18,
   "metadata": {
    "collapsed": false,
    "deletable": true,
    "editable": true
   },
   "outputs": [
    {
     "data": {
      "text/plain": [
       "(array([ 1.25656268+7.49299485j,  1.25656268-7.49299485j,  4.48687464+0.j        ]),\n",
       " array([[-0.68307576+0.j        , -0.68307576-0.j        ,  0.79215535+0.j        ],\n",
       "        [-0.27522781-0.05458384j, -0.27522781+0.05458384j, -0.57277576+0.j        ],\n",
       "        [-0.02315491-0.6739003j , -0.02315491+0.6739003j , -0.21075538+0.j        ]]))"
      ]
     },
     "execution_count": 18,
     "metadata": {},
     "output_type": "execute_result"
    }
   ],
   "source": [
    "np.linalg.eig(A)"
   ]
  },
  {
   "cell_type": "markdown",
   "metadata": {
    "deletable": true,
    "editable": true
   },
   "source": [
    "Tento objekt ma dve casti"
   ]
  },
  {
   "cell_type": "code",
   "execution_count": 19,
   "metadata": {
    "collapsed": true,
    "deletable": true,
    "editable": true
   },
   "outputs": [],
   "source": [
    "vl_hodnoty, vl_vektory = np.linalg.eig(A)"
   ]
  },
  {
   "cell_type": "markdown",
   "metadata": {
    "deletable": true,
    "editable": true
   },
   "source": [
    "vlastni hodnoty $(\\lambda_1, \\lambda_2, \\lambda_3)$"
   ]
  },
  {
   "cell_type": "code",
   "execution_count": 20,
   "metadata": {
    "collapsed": false,
    "deletable": true,
    "editable": true,
    "scrolled": true
   },
   "outputs": [
    {
     "name": "stdout",
     "output_type": "stream",
     "text": [
      "[ 1.25656268+7.49299485j  1.25656268-7.49299485j  4.48687464+0.j        ]\n"
     ]
    }
   ],
   "source": [
    "print(vl_hodnoty)"
   ]
  },
  {
   "cell_type": "markdown",
   "metadata": {
    "deletable": true,
    "editable": true
   },
   "source": [
    "a vlastni vektory $\\pmb{v}_1, \\pmb{v}_2, \\pmb{v}_3$"
   ]
  },
  {
   "cell_type": "code",
   "execution_count": 21,
   "metadata": {
    "collapsed": false,
    "deletable": true,
    "editable": true
   },
   "outputs": [
    {
     "data": {
      "text/plain": [
       "array([[-0.68307576+0.j        , -0.68307576-0.j        ,  0.79215535+0.j        ],\n",
       "       [-0.27522781-0.05458384j, -0.27522781+0.05458384j, -0.57277576+0.j        ],\n",
       "       [-0.02315491-0.6739003j , -0.02315491+0.6739003j , -0.21075538+0.j        ]])"
      ]
     },
     "execution_count": 21,
     "metadata": {},
     "output_type": "execute_result"
    }
   ],
   "source": [
    "vl_vektory"
   ]
  },
  {
   "cell_type": "markdown",
   "metadata": {
    "deletable": true,
    "editable": true
   },
   "source": [
    "Vlastni hodnoty a vektory teto matice jsou ale komplexni $\\pmb{v} = \\pmb{x} + i \\pmb{y}$, komplexni jednotka je v pythonu oznacovana jako '1j'."
   ]
  },
  {
   "cell_type": "code",
   "execution_count": 22,
   "metadata": {
    "collapsed": false,
    "deletable": true,
    "editable": true
   },
   "outputs": [
    {
     "name": "stdout",
     "output_type": "stream",
     "text": [
      "complex128\n",
      "complex128\n"
     ]
    }
   ],
   "source": [
    "print(vl_hodnoty.dtype)\n",
    "print(vl_vektory.dtype)"
   ]
  },
  {
   "cell_type": "markdown",
   "metadata": {
    "deletable": true,
    "editable": true
   },
   "source": [
    "oba vysledne objekty jsou ale opet typu numpy.array a da se s nim tak i dale zachazet"
   ]
  },
  {
   "cell_type": "code",
   "execution_count": 23,
   "metadata": {
    "collapsed": false,
    "deletable": true,
    "editable": true,
    "scrolled": true
   },
   "outputs": [
    {
     "name": "stdout",
     "output_type": "stream",
     "text": [
      "<class 'numpy.ndarray'>\n",
      "<class 'numpy.ndarray'>\n"
     ]
    }
   ],
   "source": [
    "print(type(vl_hodnoty))\n",
    "print(type(vl_vektory))"
   ]
  },
  {
   "cell_type": "markdown",
   "metadata": {
    "deletable": true,
    "editable": true
   },
   "source": [
    "numpy.array rovnez podporuje nasobeni, a to jak nasobeni matice skalarem $2 \\pmb{A}$"
   ]
  },
  {
   "cell_type": "code",
   "execution_count": 24,
   "metadata": {
    "collapsed": false,
    "deletable": true,
    "editable": true,
    "scrolled": true
   },
   "outputs": [
    {
     "data": {
      "text/plain": [
       "array([[  6., -10.,  16.],\n",
       "       [ -2.,   4.,   6.],\n",
       "       [-10., -12.,   4.]])"
      ]
     },
     "execution_count": 24,
     "metadata": {},
     "output_type": "execute_result"
    }
   ],
   "source": [
    "A*2"
   ]
  },
  {
   "cell_type": "markdown",
   "metadata": {
    "deletable": true,
    "editable": true
   },
   "source": [
    "umocnovani $\\pmb{A}^2$, logaritmovani $\\ln(\\pmb{A})$, odmocnovani $\\pmb{A}^{1/2}$, atd. vsech prvku vektoru"
   ]
  },
  {
   "cell_type": "code",
   "execution_count": 25,
   "metadata": {
    "collapsed": false,
    "deletable": true,
    "editable": true
   },
   "outputs": [
    {
     "name": "stdout",
     "output_type": "stream",
     "text": [
      "umocneni na druhou:\n",
      "[[  9.  25.  64.]\n",
      " [  1.   4.   9.]\n",
      " [ 25.  36.   4.]]\n",
      "prirozeny logaritmus:\n",
      "[[ 1.09861229         nan  2.07944154]\n",
      " [        nan  0.69314718  1.09861229]\n",
      " [        nan         nan  0.69314718]]\n",
      "odmocneni:\n",
      "[[ 1.73205081         nan  2.82842712]\n",
      " [        nan  1.41421356  1.73205081]\n",
      " [        nan         nan  1.41421356]]\n"
     ]
    },
    {
     "name": "stderr",
     "output_type": "stream",
     "text": [
      "/home/ziky/.virtualenvs/plasmasolve3/lib/python3.4/site-packages/ipykernel/__main__.py:4: RuntimeWarning: invalid value encountered in log\n",
      "/home/ziky/.virtualenvs/plasmasolve3/lib/python3.4/site-packages/ipykernel/__main__.py:6: RuntimeWarning: invalid value encountered in sqrt\n"
     ]
    }
   ],
   "source": [
    "print('umocneni na druhou:')\n",
    "print(A**2)\n",
    "print('prirozeny logaritmus:')\n",
    "print(np.log(A))\n",
    "print('odmocneni:')\n",
    "print(np.sqrt(A))"
   ]
  },
  {
   "cell_type": "markdown",
   "metadata": {
    "deletable": true,
    "editable": true
   },
   "source": [
    "Pri logaritmovani ci odmocneni jsme ale pro nektere hodnoty dostali 'nan', coz je chybova hlaska (nan=Not A Number). Vskutku, odmocnina ci logaritmus ze zaporneho realneho cisla neni v oboru realnych cisel definovana (opet 1:0 pro python  :-)). Pokud chceme ale ziskat reseni odmocniny v oboru komplexnich cisel, je treba pretypovat $\\pmb{A}$ na komplexni cisla"
   ]
  },
  {
   "cell_type": "code",
   "execution_count": 26,
   "metadata": {
    "collapsed": false,
    "deletable": true,
    "editable": true
   },
   "outputs": [
    {
     "name": "stdout",
     "output_type": "stream",
     "text": [
      "odmocneni s resenim v oboru komplexnich cisel:\n",
      "[[ 1.73205081+0.j          0.00000000+2.23606798j  2.82842712+0.j        ]\n",
      " [ 0.00000000+1.j          1.41421356+0.j          1.73205081+0.j        ]\n",
      " [ 0.00000000+2.23606798j  0.00000000+2.44948974j  1.41421356+0.j        ]]\n"
     ]
    }
   ],
   "source": [
    "print('odmocneni s resenim v oboru komplexnich cisel:')\n",
    "print(np.sqrt(np.complex128(A)))"
   ]
  },
  {
   "cell_type": "markdown",
   "metadata": {
    "deletable": true,
    "editable": true
   },
   "source": [
    "<h2>Skalarni a vektorovy soucin</h2>\n",
    "\n",
    "Matice numpy.array lze rovnez mezi sebou nasobit. Definujme si proto nyni jednorozmerny vektor $\\pmb{b}$ slozeny obecne z komplexnich cisel"
   ]
  },
  {
   "cell_type": "code",
   "execution_count": 27,
   "metadata": {
    "collapsed": false,
    "deletable": true,
    "editable": true,
    "scrolled": true
   },
   "outputs": [
    {
     "data": {
      "text/plain": [
       "array([ 4.+0.j,  3.+0.j, -0.-1.j])"
      ]
     },
     "execution_count": 27,
     "metadata": {},
     "output_type": "execute_result"
    }
   ],
   "source": [
    "b = np.array([4, 3, -1j])\n",
    "b"
   ]
  },
  {
   "cell_type": "markdown",
   "metadata": {
    "deletable": true,
    "editable": true
   },
   "source": [
    "Tento vektor muzeme vynasobit s matici $\\pmb{A}$ jednak prvek po prvku $A_{ij} b_j, j = 1,3$  viz"
   ]
  },
  {
   "cell_type": "code",
   "execution_count": 28,
   "metadata": {
    "collapsed": false,
    "deletable": true,
    "editable": true
   },
   "outputs": [
    {
     "data": {
      "text/plain": [
       "array([[ 3., -5.,  8.],\n",
       "       [-1.,  2.,  3.],\n",
       "       [-5., -6.,  2.]])"
      ]
     },
     "execution_count": 28,
     "metadata": {},
     "output_type": "execute_result"
    }
   ],
   "source": [
    "A"
   ]
  },
  {
   "cell_type": "code",
   "execution_count": 29,
   "metadata": {
    "collapsed": false,
    "deletable": true,
    "editable": true
   },
   "outputs": [
    {
     "data": {
      "text/plain": [
       "array([[ 12.+0.j, -15.+0.j,   0.-8.j],\n",
       "       [ -4.+0.j,   6.+0.j,   0.-3.j],\n",
       "       [-20.+0.j, -18.+0.j,   0.-2.j]])"
      ]
     },
     "execution_count": 29,
     "metadata": {},
     "output_type": "execute_result"
    }
   ],
   "source": [
    "A*b"
   ]
  },
  {
   "cell_type": "markdown",
   "metadata": {
    "deletable": true,
    "editable": true
   },
   "source": [
    "tedy nasobeni $\\pmb{A} \\otimes \\pmb{b}$ nyni probiha takto"
   ]
  },
  {
   "cell_type": "code",
   "execution_count": 30,
   "metadata": {
    "collapsed": false,
    "deletable": true,
    "editable": true
   },
   "outputs": [
    {
     "name": "stdout",
     "output_type": "stream",
     "text": [
      "A[0]*b: [ 12.+0.j -15.+0.j   0.-8.j]\n",
      "A[1]*b: [-4.+0.j  6.+0.j  0.-3.j]\n",
      "A[2]*b: [-20.+0.j -18.+0.j   0.-2.j]\n"
     ]
    }
   ],
   "source": [
    "print('A[0]*b:', A[0]*b)\n",
    "print('A[1]*b:', A[1]*b)\n",
    "print('A[2]*b:', A[2]*b)"
   ]
  },
  {
   "cell_type": "markdown",
   "metadata": {
    "deletable": true,
    "editable": true
   },
   "source": [
    "Nyni ukrok stranou, definujme vektor $\\pmb{c}$"
   ]
  },
  {
   "cell_type": "code",
   "execution_count": 31,
   "metadata": {
    "collapsed": true,
    "deletable": true,
    "editable": true
   },
   "outputs": [],
   "source": [
    "c = np.array([1,2,3])"
   ]
  },
  {
   "cell_type": "markdown",
   "metadata": {
    "deletable": true,
    "editable": true
   },
   "source": [
    "a provedme skalarni soucin s $\\pmb{b} \\cdot \\pmb{c}$"
   ]
  },
  {
   "cell_type": "code",
   "execution_count": 32,
   "metadata": {
    "collapsed": false,
    "deletable": true,
    "editable": true
   },
   "outputs": [
    {
     "data": {
      "text/plain": [
       "(10-3j)"
      ]
     },
     "execution_count": 32,
     "metadata": {},
     "output_type": "execute_result"
    }
   ],
   "source": [
    "b.dot(c)"
   ]
  },
  {
   "cell_type": "markdown",
   "metadata": {
    "deletable": true,
    "editable": true
   },
   "source": [
    "Musi pochopitelne platit $\\pmb{b} \\cdot \\pmb{c} = \\pmb{c} \\cdot \\pmb{b}$"
   ]
  },
  {
   "cell_type": "code",
   "execution_count": 33,
   "metadata": {
    "collapsed": false,
    "deletable": true,
    "editable": true
   },
   "outputs": [
    {
     "data": {
      "text/plain": [
       "True"
      ]
     },
     "execution_count": 33,
     "metadata": {},
     "output_type": "execute_result"
    }
   ],
   "source": [
    "b.dot(c) == c.dot(b)"
   ]
  },
  {
   "cell_type": "markdown",
   "metadata": {
    "deletable": true,
    "editable": true
   },
   "source": [
    "Procedura .dot dale umi provadet nasobeni matice a vektoru. Vynasobme takto tedy $\\pmb{A} \\cdot \\pmb{b}$"
   ]
  },
  {
   "cell_type": "code",
   "execution_count": 34,
   "metadata": {
    "collapsed": false,
    "deletable": true,
    "editable": true
   },
   "outputs": [
    {
     "data": {
      "text/plain": [
       "array([ -3.-8.j,   2.-3.j, -38.-2.j])"
      ]
     },
     "execution_count": 34,
     "metadata": {},
     "output_type": "execute_result"
    }
   ],
   "source": [
    "A.dot(b)"
   ]
  },
  {
   "cell_type": "markdown",
   "metadata": {
    "deletable": true,
    "editable": true
   },
   "source": [
    "nyni ovsem neplati $\\pmb{A} \\cdot \\pmb{b} = \\pmb{b} \\cdot \\pmb{A}$"
   ]
  },
  {
   "cell_type": "code",
   "execution_count": 35,
   "metadata": {
    "collapsed": false,
    "deletable": true,
    "editable": true
   },
   "outputs": [
    {
     "data": {
      "text/plain": [
       "array([False, False, False], dtype=bool)"
      ]
     },
     "execution_count": 35,
     "metadata": {},
     "output_type": "execute_result"
    }
   ],
   "source": [
    "(A.dot(b) == b.dot(A))**2"
   ]
  },
  {
   "cell_type": "code",
   "execution_count": 36,
   "metadata": {
    "collapsed": false,
    "deletable": true,
    "editable": true
   },
   "outputs": [
    {
     "data": {
      "text/plain": [
       "array([False, False, False], dtype=bool)"
      ]
     },
     "execution_count": 36,
     "metadata": {},
     "output_type": "execute_result"
    }
   ],
   "source": [
    "(A.dot(b) == b.dot(A))==True"
   ]
  },
  {
   "cell_type": "markdown",
   "metadata": {
    "deletable": true,
    "editable": true
   },
   "source": [
    "Vskutku, vektor $\\pmb{b} \\cdot \\pmb{A}$ je jiny, jak se probira jiz v linearni algebre v prvaku. Python tedy opet pocita dobre. :-)"
   ]
  },
  {
   "cell_type": "code",
   "execution_count": 37,
   "metadata": {
    "collapsed": false,
    "deletable": true,
    "editable": true
   },
   "outputs": [
    {
     "data": {
      "text/plain": [
       "array([  9.+5.j, -14.+6.j,  41.-2.j])"
      ]
     },
     "execution_count": 37,
     "metadata": {},
     "output_type": "execute_result"
    }
   ],
   "source": [
    "b.dot(A)"
   ]
  },
  {
   "cell_type": "markdown",
   "metadata": {
    "deletable": true,
    "editable": true
   },
   "source": [
    "Definujeme nyni matici $\\pmb{B}$ a provedeme maticove nasobeni:"
   ]
  },
  {
   "cell_type": "code",
   "execution_count": 38,
   "metadata": {
    "collapsed": false,
    "deletable": true,
    "editable": true
   },
   "outputs": [],
   "source": [
    "B = np.array([[0,0,1],[0,2,0],[1,0,0]])"
   ]
  },
  {
   "cell_type": "markdown",
   "metadata": {
    "deletable": true,
    "editable": true
   },
   "source": [
    "$\\pmb{A}\\times\\pmb{B}$ a naopak"
   ]
  },
  {
   "cell_type": "code",
   "execution_count": 39,
   "metadata": {
    "collapsed": false,
    "deletable": true,
    "editable": true
   },
   "outputs": [
    {
     "data": {
      "text/plain": [
       "array([[  8., -10.,   3.],\n",
       "       [  3.,   4.,  -1.],\n",
       "       [  2., -12.,  -5.]])"
      ]
     },
     "execution_count": 39,
     "metadata": {},
     "output_type": "execute_result"
    }
   ],
   "source": [
    "np.matmul(A,B)"
   ]
  },
  {
   "cell_type": "code",
   "execution_count": 40,
   "metadata": {
    "collapsed": false,
    "deletable": true,
    "editable": true
   },
   "outputs": [
    {
     "data": {
      "text/plain": [
       "array([[-5., -6.,  2.],\n",
       "       [-2.,  4.,  6.],\n",
       "       [ 3., -5.,  8.]])"
      ]
     },
     "execution_count": 40,
     "metadata": {},
     "output_type": "execute_result"
    }
   ],
   "source": [
    "np.matmul(B,A)"
   ]
  },
  {
   "cell_type": "markdown",
   "metadata": {
    "deletable": true,
    "editable": true
   },
   "source": [
    "Vyzkousejme si komutacni relaci $[\\pmb{A},\\pmb{B}]=\\pmb{A}\\times\\pmb{B}-\\pmb{B}\\times\\pmb{A}$ (muze se Vam hodit v kvantovce)"
   ]
  },
  {
   "cell_type": "code",
   "execution_count": 41,
   "metadata": {
    "collapsed": false,
    "deletable": true,
    "editable": true
   },
   "outputs": [
    {
     "data": {
      "text/plain": [
       "array([[ 13.,  -4.,   1.],\n",
       "       [  5.,   0.,  -7.],\n",
       "       [ -1.,  -7., -13.]])"
      ]
     },
     "execution_count": 41,
     "metadata": {},
     "output_type": "execute_result"
    }
   ],
   "source": [
    "np.matmul(A,B) - np.matmul(B,A)"
   ]
  },
  {
   "cell_type": "markdown",
   "metadata": {
    "deletable": true,
    "editable": true
   },
   "source": [
    "Zkusme definovat vektory $\\pmb{a}, \\pmb{b}$ a provedme jejich vektorovy soucin"
   ]
  },
  {
   "cell_type": "code",
   "execution_count": 42,
   "metadata": {
    "collapsed": true,
    "deletable": true,
    "editable": true
   },
   "outputs": [],
   "source": [
    "a = np.array([0,0,1])\n",
    "b = np.array([1,0,0])"
   ]
  },
  {
   "cell_type": "code",
   "execution_count": 43,
   "metadata": {
    "collapsed": false,
    "deletable": true,
    "editable": true
   },
   "outputs": [
    {
     "data": {
      "text/plain": [
       "array([0, 1, 0])"
      ]
     },
     "execution_count": 43,
     "metadata": {},
     "output_type": "execute_result"
    }
   ],
   "source": [
    "c = np.cross(a,b)\n",
    "c"
   ]
  },
  {
   "cell_type": "markdown",
   "metadata": {
    "deletable": true,
    "editable": true
   },
   "source": [
    "A presvedcme se, ze je kolmy na oba puvodni vektory..."
   ]
  },
  {
   "cell_type": "code",
   "execution_count": 44,
   "metadata": {
    "collapsed": false,
    "deletable": true,
    "editable": true
   },
   "outputs": [
    {
     "data": {
      "text/plain": [
       "0"
      ]
     },
     "execution_count": 44,
     "metadata": {},
     "output_type": "execute_result"
    }
   ],
   "source": [
    "np.dot(a,c)"
   ]
  },
  {
   "cell_type": "code",
   "execution_count": 45,
   "metadata": {
    "collapsed": false,
    "deletable": true,
    "editable": true
   },
   "outputs": [
    {
     "data": {
      "text/plain": [
       "0"
      ]
     },
     "execution_count": 45,
     "metadata": {},
     "output_type": "execute_result"
    }
   ],
   "source": [
    "np.dot(b,c)"
   ]
  },
  {
   "cell_type": "markdown",
   "metadata": {
    "deletable": true,
    "editable": true
   },
   "source": [
    "<h2>Reseni soustav linearnich rovnic</h2>\n",
    "\n",
    "Podtrida linalg v tride numpy dale (mimo jine) obsahuje radu algoritmu na reseni soustav rovnic. Jako priklad pouzijme nyni vektor $\\pmb{b}$ jako pravou stranu soustavy rovnic $\\pmb{A} \\pmb{x} = \\pmb{b}$ a vyresme ji. Dostaneme vektor"
   ]
  },
  {
   "cell_type": "code",
   "execution_count": 46,
   "metadata": {
    "collapsed": false,
    "deletable": true,
    "editable": true
   },
   "outputs": [
    {
     "data": {
      "text/plain": [
       "array([ 0.08494208, -0.05019305,  0.06177606])"
      ]
     },
     "execution_count": 46,
     "metadata": {},
     "output_type": "execute_result"
    }
   ],
   "source": [
    "np.linalg.solve(A,b)"
   ]
  },
  {
   "cell_type": "markdown",
   "metadata": {
    "deletable": true,
    "editable": true
   },
   "source": [
    "<h2>Operace s prvky matic</h2>\n",
    "\n",
    "Nyni se zminme o nekolika dalsich uzitecnych procedurach v numpy. Zacneme s tzv. slicing. Nekolik prikladu nasleduje, uhadnete, co provadeji"
   ]
  },
  {
   "cell_type": "code",
   "execution_count": 47,
   "metadata": {
    "collapsed": false,
    "deletable": true,
    "editable": true
   },
   "outputs": [
    {
     "data": {
      "text/plain": [
       "array([[ 3., -5.,  8.],\n",
       "       [-1.,  2.,  3.],\n",
       "       [-5., -6.,  2.]])"
      ]
     },
     "execution_count": 47,
     "metadata": {},
     "output_type": "execute_result"
    }
   ],
   "source": [
    "A"
   ]
  },
  {
   "cell_type": "code",
   "execution_count": 48,
   "metadata": {
    "collapsed": false,
    "deletable": true,
    "editable": true
   },
   "outputs": [
    {
     "data": {
      "text/plain": [
       "array([ 3., -1., -5.])"
      ]
     },
     "execution_count": 48,
     "metadata": {},
     "output_type": "execute_result"
    }
   ],
   "source": [
    "A[:, 0]"
   ]
  },
  {
   "cell_type": "code",
   "execution_count": 49,
   "metadata": {
    "collapsed": false,
    "deletable": true,
    "editable": true
   },
   "outputs": [
    {
     "data": {
      "text/plain": [
       "array([ 3., -5.,  8.])"
      ]
     },
     "execution_count": 49,
     "metadata": {},
     "output_type": "execute_result"
    }
   ],
   "source": [
    "A[0, :]"
   ]
  },
  {
   "cell_type": "code",
   "execution_count": 50,
   "metadata": {
    "collapsed": false,
    "deletable": true,
    "editable": true
   },
   "outputs": [
    {
     "data": {
      "text/plain": [
       "array([[-1.,  2.,  3.],\n",
       "       [-5., -6.,  2.]])"
      ]
     },
     "execution_count": 50,
     "metadata": {},
     "output_type": "execute_result"
    }
   ],
   "source": [
    "A[1:, :]"
   ]
  },
  {
   "cell_type": "code",
   "execution_count": 51,
   "metadata": {
    "collapsed": false,
    "deletable": true,
    "editable": true,
    "scrolled": true
   },
   "outputs": [
    {
     "data": {
      "text/plain": [
       "array([ 3.])"
      ]
     },
     "execution_count": 51,
     "metadata": {},
     "output_type": "execute_result"
    }
   ],
   "source": [
    "A[0, :-2]"
   ]
  },
  {
   "cell_type": "markdown",
   "metadata": {
    "deletable": true,
    "editable": true
   },
   "source": [
    "Dalsi uzitecna procedura je rollaxis"
   ]
  },
  {
   "cell_type": "code",
   "execution_count": 52,
   "metadata": {
    "collapsed": false,
    "deletable": true,
    "editable": true
   },
   "outputs": [
    {
     "data": {
      "text/plain": [
       "array([[ 3., -1., -5.],\n",
       "       [-5.,  2., -6.],\n",
       "       [ 8.,  3.,  2.]])"
      ]
     },
     "execution_count": 52,
     "metadata": {},
     "output_type": "execute_result"
    }
   ],
   "source": [
    "np.rollaxis(A, 1, 0)"
   ]
  },
  {
   "cell_type": "markdown",
   "metadata": {
    "deletable": true,
    "editable": true
   },
   "source": [
    "Procedura zpusobila prehozeni radku za sloupce a naopak, coz muzeme videt pri srovnani s puvodni matici $\\pmb{A}$ (de facto tak provedla transpozici)"
   ]
  },
  {
   "cell_type": "code",
   "execution_count": 53,
   "metadata": {
    "collapsed": false,
    "deletable": true,
    "editable": true
   },
   "outputs": [
    {
     "data": {
      "text/plain": [
       "array([[ 3., -5.,  8.],\n",
       "       [-1.,  2.,  3.],\n",
       "       [-5., -6.,  2.]])"
      ]
     },
     "execution_count": 53,
     "metadata": {},
     "output_type": "execute_result"
    }
   ],
   "source": [
    "A"
   ]
  },
  {
   "cell_type": "markdown",
   "metadata": {
    "deletable": true,
    "editable": true
   },
   "source": [
    "Procedura roll zase umoznuje posunout vsechny prvky o danou konstantu"
   ]
  },
  {
   "cell_type": "code",
   "execution_count": 54,
   "metadata": {
    "collapsed": false,
    "deletable": true,
    "editable": true
   },
   "outputs": [
    {
     "data": {
      "text/plain": [
       "array([[-5., -6.,  2.],\n",
       "       [ 3., -5.,  8.],\n",
       "       [-1.,  2.,  3.]])"
      ]
     },
     "execution_count": 54,
     "metadata": {},
     "output_type": "execute_result"
    }
   ],
   "source": [
    "np.roll(A, 1, axis=0)"
   ]
  },
  {
   "cell_type": "code",
   "execution_count": 55,
   "metadata": {
    "collapsed": false,
    "deletable": true,
    "editable": true
   },
   "outputs": [
    {
     "data": {
      "text/plain": [
       "array([[ 8.,  3., -5.],\n",
       "       [ 3., -1.,  2.],\n",
       "       [ 2., -5., -6.]])"
      ]
     },
     "execution_count": 55,
     "metadata": {},
     "output_type": "execute_result"
    }
   ],
   "source": [
    "np.roll(A, 1, axis=1)"
   ]
  },
  {
   "cell_type": "code",
   "execution_count": 56,
   "metadata": {
    "collapsed": false,
    "deletable": true,
    "editable": true
   },
   "outputs": [
    {
     "data": {
      "text/plain": [
       "array([[ 2.,  3., -5.],\n",
       "       [ 8., -1.,  2.],\n",
       "       [ 3., -5., -6.]])"
      ]
     },
     "execution_count": 56,
     "metadata": {},
     "output_type": "execute_result"
    }
   ],
   "source": [
    "np.roll(A, 1)"
   ]
  },
  {
   "cell_type": "code",
   "execution_count": 57,
   "metadata": {
    "collapsed": false,
    "deletable": true,
    "editable": true
   },
   "outputs": [
    {
     "data": {
      "text/plain": [
       "array([[ 3., -5., -6.],\n",
       "       [ 2.,  3., -5.],\n",
       "       [ 8., -1.,  2.]])"
      ]
     },
     "execution_count": 57,
     "metadata": {},
     "output_type": "execute_result"
    }
   ],
   "source": [
    "np.roll(A, 4)"
   ]
  },
  {
   "cell_type": "markdown",
   "metadata": {
    "deletable": true,
    "editable": true
   },
   "source": [
    "<h2>Vyznamne matice</h2>\n",
    "\n",
    "Sikovne jsou metody na automaticke generovani matic, ktere se skladaji ze stejnych prvku"
   ]
  },
  {
   "cell_type": "code",
   "execution_count": 58,
   "metadata": {
    "collapsed": false,
    "deletable": true,
    "editable": true
   },
   "outputs": [
    {
     "data": {
      "text/plain": [
       "array([[ 0.,  0.,  0.],\n",
       "       [ 0.,  0.,  0.],\n",
       "       [ 0.,  0.,  0.]])"
      ]
     },
     "execution_count": 58,
     "metadata": {},
     "output_type": "execute_result"
    }
   ],
   "source": [
    "np.zeros(np.shape(A))"
   ]
  },
  {
   "cell_type": "code",
   "execution_count": 59,
   "metadata": {
    "collapsed": false,
    "deletable": true,
    "editable": true
   },
   "outputs": [
    {
     "data": {
      "text/plain": [
       "array([[ 1.,  1.,  1.],\n",
       "       [ 1.,  1.,  1.],\n",
       "       [ 1.,  1.,  1.]])"
      ]
     },
     "execution_count": 59,
     "metadata": {},
     "output_type": "execute_result"
    }
   ],
   "source": [
    "np.ones(np.shape(A))"
   ]
  },
  {
   "cell_type": "code",
   "execution_count": 60,
   "metadata": {
    "collapsed": false,
    "deletable": true,
    "editable": true
   },
   "outputs": [
    {
     "data": {
      "text/plain": [
       "array([[ 1.,  0.,  0.],\n",
       "       [ 0.,  1.,  0.],\n",
       "       [ 0.,  0.,  1.]])"
      ]
     },
     "execution_count": 60,
     "metadata": {},
     "output_type": "execute_result"
    }
   ],
   "source": [
    "np.eye(3)"
   ]
  },
  {
   "cell_type": "code",
   "execution_count": 61,
   "metadata": {
    "collapsed": false,
    "deletable": true,
    "editable": true
   },
   "outputs": [
    {
     "data": {
      "text/plain": [
       "array([[ 0.,  1.,  0.],\n",
       "       [ 0.,  0.,  1.],\n",
       "       [ 0.,  0.,  0.]])"
      ]
     },
     "execution_count": 61,
     "metadata": {},
     "output_type": "execute_result"
    }
   ],
   "source": [
    "np.eye(3, k=1)"
   ]
  },
  {
   "cell_type": "code",
   "execution_count": 62,
   "metadata": {
    "collapsed": false,
    "deletable": true,
    "editable": true
   },
   "outputs": [
    {
     "data": {
      "text/plain": [
       "array([[     0.+0.j,      0.+0.j,      0.+0.j],\n",
       "       [ 10000.+1.j,      0.+0.j,      0.+0.j],\n",
       "       [     0.+0.j,  10000.+1.j,      0.+0.j]])"
      ]
     },
     "execution_count": 62,
     "metadata": {},
     "output_type": "execute_result"
    }
   ],
   "source": [
    "(1e4+1j)*np.eye(3, k=-1)"
   ]
  },
  {
   "cell_type": "markdown",
   "metadata": {
    "deletable": true,
    "editable": true
   },
   "source": [
    "<h2>Cviceni</h2>\n",
    "\n",
    "Najdete vlastni hodnoty a vektory nasledujici matice \n",
    "\n",
    "$\\pmb{M}=\n",
    "\\begin{pmatrix}\n",
    "1& -5& 3& 0& 0& 0& 0& 0\\\\\n",
    "3& 2& -3& 5& 0& 0& 0& 0\\\\\n",
    "0& -2& 1& 5& 9& 0& 0& 0\\\\\n",
    "0& 0& 9& -1& 5& 4& 0& 0\\\\\n",
    "0& 0& 0& 0& 2& -3& -2+5\\mathrm{i}& 0\\\\\n",
    "0& 0& 0& 0& 2& 0& 1& -6\\\\\n",
    "0& 0& 0& 0& 0& -3& 2& 7\\\\\n",
    "0& 0& 0& 0& 0& 0& 9& 1\\\\\n",
    "\\end{pmatrix}$\n",
    "\n",
    "a dale vyreste soustavu rovnic $\\pmb{M}\\cdot \\pmb{x} = \\pmb{v}_3$, kde $\\pmb{v}_3$ je treti vlastni vektor matice $\\pmb{M}$. Dale\n",
    "\n",
    "- vypiste matici $\\pmb{M}$ slozenou z cisel nalezejicich do $\\mathbb{C}$ jako soucet dvou matic s koeficienty v $\\mathbb{R}$,\n",
    "- zmente komplexni matici v realnou a naopak a vypiste jako nove matice tak, nasledne je sectete a vysledek ulozte do matice $\\pmb{D}$,\n",
    "- provedte komplexni sdruzeni matice $\\pmb{M}$,\n",
    "- matici $\\pmb{M}$ Hermitovsky sdruzte a provedte $\\pmb{M}\\times\\pmb{M}^H$ a porovnejte s vhodne vytvorenou jednotkovou matici $\\pmb{I}$,\n",
    "- provedte $|\\pmb{M}|^2$ a $|\\pmb{D}|^2$ a otestujte $|\\pmb{M}|^2=|\\pmb{D}|^2$ a $\\pmb{M}=\\pmb{D}$,\n",
    "- provedte rovnez $|\\pmb{M}^2|$ a otestujte $|\\pmb{M}|^2=|\\pmb{M}^2|$.\n",
    "\n",
    "<b>Vyzkousejte python z kvantove mechaniky:</b>\n",
    "\n",
    "Uvazte nasledujici matice:\n",
    "\n",
    "$\\sigma_1=\\begin{pmatrix}\n",
    "0& 1\\\\\n",
    "1& 0\\\\\n",
    "\\end{pmatrix},\n",
    "\\sigma_2=\\begin{pmatrix}\n",
    "0& -\\mathrm{i}\\\\\n",
    "\\mathrm{i}& 0\\\\\n",
    "\\end{pmatrix},\n",
    "\\sigma_3=\\begin{pmatrix}\n",
    "1& 0\\\\\n",
    "0& -1\\\\\n",
    "\\end{pmatrix},$\n",
    "\n",
    "a overte komutacni relace \n",
    "\n",
    "$[\\pmb{\\sigma}_1,\\pmb{\\sigma}_2]=2\\mathrm{i}\\pmb{\\sigma}_3\\\\\n",
    "[\\pmb{\\sigma_2},\\pmb{\\sigma}_3]=2\\mathrm{i}\\pmb{\\sigma}_1\\\\\n",
    "[\\pmb{\\sigma_3},\\pmb{\\sigma}_1]=2\\mathrm{i}\\pmb{\\sigma}_2$\n",
    "\n",
    "a antikomutacni relace $\\{\\pmb{C},\\pmb{D}\\}=\\pmb{C}\\times\\pmb{D}+\\pmb{D}\\times\\pmb{C}$\n",
    "\n",
    "$\\{\\pmb{\\sigma}_1,\\pmb{\\sigma}_1\\}=2\\pmb{I}\\\\\n",
    "\\{\\pmb{\\sigma}_1,\\pmb{\\sigma}_2\\}=0$\n",
    "\n",
    "Konecne naleznete vlastni hodnoty a vlastni vektory matic $\\pmb{\\sigma}_1$, $\\pmb{\\sigma}_2$ a $\\pmb{\\sigma}_3.\\\\\\\\\\\\\\\\\\\\\\\\$\n",
    "\n",
    "\n",
    "\n",
    "\n",
    "\n",
    "``<i>As far as the laws of mathematics refer to reality, they are not certain; and as far as they are certain, they do not refer to reality</i>.\n",
    "\n",
    "                                                                                      Albert Einstein"
   ]
  },
  {
   "cell_type": "code",
   "execution_count": null,
   "metadata": {
    "collapsed": true,
    "deletable": true,
    "editable": true
   },
   "outputs": [],
   "source": []
  }
 ],
 "metadata": {
  "kernelspec": {
   "display_name": "Python 3",
   "language": "python",
   "name": "python3"
  },
  "language_info": {
   "codemirror_mode": {
    "name": "ipython",
    "version": 3
   },
   "file_extension": ".py",
   "mimetype": "text/x-python",
   "name": "python",
   "nbconvert_exporter": "python",
   "pygments_lexer": "ipython3",
   "version": "3.4.3+"
  }
 },
 "nbformat": 4,
 "nbformat_minor": 2
}
